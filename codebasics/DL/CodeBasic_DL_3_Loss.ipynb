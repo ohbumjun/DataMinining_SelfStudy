{
  "nbformat": 4,
  "nbformat_minor": 0,
  "metadata": {
    "colab": {
      "name": "CodeBasic_DL_3_Loss.ipynb",
      "provenance": []
    },
    "kernelspec": {
      "name": "python3",
      "display_name": "Python 3"
    },
    "language_info": {
      "name": "python"
    }
  },
  "cells": [
    {
      "cell_type": "code",
      "metadata": {
        "id": "dtlTOQqHpMbZ"
      },
      "source": [
        "import numpy as np\n",
        "\n",
        "y_predicted = np.array([1,1,0,0,1])\n",
        "y_true      = np.array([0.3,0.7,1,0,0.5])"
      ],
      "execution_count": 5,
      "outputs": []
    },
    {
      "cell_type": "code",
      "metadata": {
        "id": "95DOg5fqpcMZ"
      },
      "source": [
        "def mae(y_true,y_predicted) :\n",
        "  total_error = 0\n",
        "  for yt,yp in zip(y_true,y_predicted) :\n",
        "    total_error += abs(yt-yp)\n",
        "  print(\"Total error : \", total_error)\n",
        "\n",
        "  mae = total_error / len(y_true)\n",
        "  print(\"MAE : \",mae)\n",
        "  return mae"
      ],
      "execution_count": 2,
      "outputs": []
    },
    {
      "cell_type": "code",
      "metadata": {
        "colab": {
          "base_uri": "https://localhost:8080/"
        },
        "id": "LxeA3jQ4puOt",
        "outputId": "b8e1f494-8b04-4930-a9be-18f3630eeaf2"
      },
      "source": [
        "mae(y_true,y_predicted)"
      ],
      "execution_count": 7,
      "outputs": [
        {
          "output_type": "stream",
          "name": "stdout",
          "text": [
            "Total error :  2.5\n",
            "MAE :  0.5\n"
          ]
        },
        {
          "output_type": "execute_result",
          "data": {
            "text/plain": [
              "0.5"
            ]
          },
          "metadata": {},
          "execution_count": 7
        }
      ]
    },
    {
      "cell_type": "code",
      "metadata": {
        "colab": {
          "base_uri": "https://localhost:8080/"
        },
        "id": "imKIPkbipvbD",
        "outputId": "cfacc426-f003-4746-a2a2-5a98c010f968"
      },
      "source": [
        "np.abs(y_predicted - y_true)"
      ],
      "execution_count": 8,
      "outputs": [
        {
          "output_type": "execute_result",
          "data": {
            "text/plain": [
              "array([0.7, 0.3, 1. , 0. , 0.5])"
            ]
          },
          "metadata": {},
          "execution_count": 8
        }
      ]
    },
    {
      "cell_type": "code",
      "metadata": {
        "id": "QFMxc-OXp51r"
      },
      "source": [
        "# Log loss\n",
        "epsilon = 1e-15"
      ],
      "execution_count": 11,
      "outputs": []
    },
    {
      "cell_type": "code",
      "metadata": {
        "colab": {
          "base_uri": "https://localhost:8080/"
        },
        "id": "f9AzP-WZqDx9",
        "outputId": "15f6d0fc-2be9-4fa8-84df-49056363a2d6"
      },
      "source": [
        "y_predicted_new = [max(i,epsilon) for i in y_predicted]\n",
        "y_predicted_new"
      ],
      "execution_count": 13,
      "outputs": [
        {
          "output_type": "execute_result",
          "data": {
            "text/plain": [
              "[1, 1, 1e-15, 1e-15, 1]"
            ]
          },
          "metadata": {},
          "execution_count": 13
        }
      ]
    },
    {
      "cell_type": "code",
      "metadata": {
        "colab": {
          "base_uri": "https://localhost:8080/"
        },
        "id": "V06KMxkbqEzv",
        "outputId": "e6cbebd5-1bfe-4516-d768-eaaa02cb3723"
      },
      "source": [
        "# 즉, 1은 1이 아니라, 1에 최대한 가까운 수로(1보다 작음)\n",
        "# 0은 0이 아니라, 0에 최대한 가까운 수로 바꾸고자 하는 것(양수)\n",
        "y_predicted_new = [min(i,1-epsilon) for i in y_predicted]\n",
        "-y_predicted_new"
      ],
      "execution_count": 16,
      "outputs": [
        {
          "output_type": "execute_result",
          "data": {
            "text/plain": [
              "[0.999999999999999, 0.999999999999999, 0, 0, 0.999999999999999]"
            ]
          },
          "metadata": {},
          "execution_count": 16
        }
      ]
    },
    {
      "cell_type": "code",
      "metadata": {
        "colab": {
          "base_uri": "https://localhost:8080/"
        },
        "id": "R_kVoMGpqq9n",
        "outputId": "c3f3b9ee-f9e2-4d0a-8ea5-7b27ec96b8f5"
      },
      "source": [
        "y_predicted_new = np.array(y_predicted_new)\n",
        "np.log(y_predicted_new)"
      ],
      "execution_count": 17,
      "outputs": [
        {
          "output_type": "stream",
          "name": "stderr",
          "text": [
            "/usr/local/lib/python3.7/dist-packages/ipykernel_launcher.py:2: RuntimeWarning: divide by zero encountered in log\n",
            "  \n"
          ]
        },
        {
          "output_type": "execute_result",
          "data": {
            "text/plain": [
              "array([-9.99200722e-16, -9.99200722e-16,            -inf,            -inf,\n",
              "       -9.99200722e-16])"
            ]
          },
          "metadata": {},
          "execution_count": 17
        }
      ]
    },
    {
      "cell_type": "code",
      "metadata": {
        "colab": {
          "base_uri": "https://localhost:8080/"
        },
        "id": "NKcxre7Uqwb4",
        "outputId": "7702b50e-4426-49a0-8dbd-05ad926335d5"
      },
      "source": [
        "np.log(y_predicted_new) # 각각의 값에  log를 취해주는 것\n"
      ],
      "execution_count": 18,
      "outputs": [
        {
          "output_type": "stream",
          "name": "stderr",
          "text": [
            "/usr/local/lib/python3.7/dist-packages/ipykernel_launcher.py:1: RuntimeWarning: divide by zero encountered in log\n",
            "  \"\"\"Entry point for launching an IPython kernel.\n"
          ]
        },
        {
          "output_type": "execute_result",
          "data": {
            "text/plain": [
              "array([-9.99200722e-16, -9.99200722e-16,            -inf,            -inf,\n",
              "       -9.99200722e-16])"
            ]
          },
          "metadata": {},
          "execution_count": 18
        }
      ]
    },
    {
      "cell_type": "code",
      "metadata": {
        "id": "-r6RjaOOq74r"
      },
      "source": [
        "def log_loss(y_true, y_predicted):\n",
        "    y_predicted_new = [max(i,epsilon) for i in y_predicted]\n",
        "    y_predicted_new = [min(i,1-epsilon) for i in y_predicted_new]\n",
        "    y_predicted_new = np.array(y_predicted_new)\n",
        "    return -np.mean(y_true*np.log(y_predicted_new)+(1-y_true)*np.log(1-y_predicted_new))"
      ],
      "execution_count": 19,
      "outputs": []
    },
    {
      "cell_type": "code",
      "metadata": {
        "colab": {
          "base_uri": "https://localhost:8080/"
        },
        "id": "yVKtRZCOrPKf",
        "outputId": "01ffa6eb-a5bb-41f1-a5fd-30deb414aa19"
      },
      "source": [
        "log_loss(y_true, y_predicted)"
      ],
      "execution_count": 20,
      "outputs": [
        {
          "output_type": "execute_result",
          "data": {
            "text/plain": [
              "17.2696280766844"
            ]
          },
          "metadata": {},
          "execution_count": 20
        }
      ]
    },
    {
      "cell_type": "code",
      "metadata": {
        "id": "o6I98BfwrYxM"
      },
      "source": [
        "# mse\n",
        "np.mean(np.square(y_true-y_predicted))"
      ],
      "execution_count": null,
      "outputs": []
    }
  ]
}
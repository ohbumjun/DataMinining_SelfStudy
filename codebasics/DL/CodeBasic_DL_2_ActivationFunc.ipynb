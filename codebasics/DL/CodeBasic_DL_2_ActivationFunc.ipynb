{
  "nbformat": 4,
  "nbformat_minor": 0,
  "metadata": {
    "colab": {
      "name": "CodeBasic_DL_2_ActivationFunc.ipynb",
      "provenance": []
    },
    "kernelspec": {
      "name": "python3",
      "display_name": "Python 3"
    },
    "language_info": {
      "name": "python"
    }
  },
  "cells": [
    {
      "cell_type": "code",
      "metadata": {
        "id": "P671FQHsenDH"
      },
      "source": [
        "# pytorch,tensorflow = deep learning framework\n",
        "import tensorflow as tf\n",
        "from tensorflow import keras \n",
        "import matplotlib.pyplot as plt \n",
        "%matplotlib inline\n",
        "import numpy as np"
      ],
      "execution_count": null,
      "outputs": []
    },
    {
      "cell_type": "code",
      "metadata": {
        "id": "84M7eFXaer4x"
      },
      "source": [
        "import math;\n",
        "\n",
        "def sigmoid(x) :\n",
        "  return 1 / (1 + math.exp(-x)) "
      ],
      "execution_count": 1,
      "outputs": []
    },
    {
      "cell_type": "code",
      "metadata": {
        "colab": {
          "base_uri": "https://localhost:8080/"
        },
        "id": "3BKQBtg5exRw",
        "outputId": "a1a3ae2b-0fda-4e8e-aacb-041a1003cc5a"
      },
      "source": [
        "sigmoid(100)"
      ],
      "execution_count": 2,
      "outputs": [
        {
          "output_type": "execute_result",
          "data": {
            "text/plain": [
              "1.0"
            ]
          },
          "metadata": {},
          "execution_count": 2
        }
      ]
    },
    {
      "cell_type": "code",
      "metadata": {
        "colab": {
          "base_uri": "https://localhost:8080/"
        },
        "id": "I5pbVOVkezLb",
        "outputId": "805965ae-7447-4690-b524-d273382de85d"
      },
      "source": [
        "sigmoid(0.5)"
      ],
      "execution_count": 3,
      "outputs": [
        {
          "output_type": "execute_result",
          "data": {
            "text/plain": [
              "0.6224593312018546"
            ]
          },
          "metadata": {},
          "execution_count": 3
        }
      ]
    },
    {
      "cell_type": "code",
      "metadata": {
        "id": "2ho78UV3e17s"
      },
      "source": [
        "def tanh(x) :\n",
        "  return (math.exp(x) - math.exp(-x)) / (math.exp(x) + math.exp(-x) )"
      ],
      "execution_count": 4,
      "outputs": []
    },
    {
      "cell_type": "code",
      "metadata": {
        "colab": {
          "base_uri": "https://localhost:8080/"
        },
        "id": "gbMKg2r5e94Y",
        "outputId": "92917f7f-2e01-442c-e862-7ea7d3c46431"
      },
      "source": [
        "tanh(-56)"
      ],
      "execution_count": 5,
      "outputs": [
        {
          "output_type": "execute_result",
          "data": {
            "text/plain": [
              "-1.0"
            ]
          },
          "metadata": {},
          "execution_count": 5
        }
      ]
    },
    {
      "cell_type": "code",
      "metadata": {
        "id": "HLqhRHlDe_dW"
      },
      "source": [
        "def relu(x) :\n",
        "  return max(0,x)"
      ],
      "execution_count": 6,
      "outputs": []
    },
    {
      "cell_type": "code",
      "metadata": {
        "colab": {
          "base_uri": "https://localhost:8080/"
        },
        "id": "EnAFcdUdfHTQ",
        "outputId": "e2f01f48-483b-49dd-d7cc-3b7dcd39526e"
      },
      "source": [
        "relu(-7)"
      ],
      "execution_count": 7,
      "outputs": [
        {
          "output_type": "execute_result",
          "data": {
            "text/plain": [
              "0"
            ]
          },
          "metadata": {},
          "execution_count": 7
        }
      ]
    },
    {
      "cell_type": "code",
      "metadata": {
        "colab": {
          "base_uri": "https://localhost:8080/"
        },
        "id": "RklqFUmjfJQY",
        "outputId": "97ce5636-36a5-43f0-b1f6-7241c9b08a7a"
      },
      "source": [
        "relu(3)"
      ],
      "execution_count": 8,
      "outputs": [
        {
          "output_type": "execute_result",
          "data": {
            "text/plain": [
              "3"
            ]
          },
          "metadata": {},
          "execution_count": 8
        }
      ]
    }
  ]
}
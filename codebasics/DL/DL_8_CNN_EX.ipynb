{
  "nbformat": 4,
  "nbformat_minor": 0,
  "metadata": {
    "colab": {
      "name": "DL_8_CNN_EX.ipynb",
      "provenance": []
    },
    "kernelspec": {
      "name": "python3",
      "display_name": "Python 3"
    },
    "language_info": {
      "name": "python"
    }
  },
  "cells": [
    {
      "cell_type": "code",
      "metadata": {
        "id": "7Fq2OWy3jUmn"
      },
      "source": [
        "import tensorflow as tf\n",
        "from tensorflow import keras\n",
        "from tensorflow.keras import datasets, layers, models\n",
        "import matplotlib.pyplot as plt\n",
        "import numpy as np"
      ],
      "execution_count": 5,
      "outputs": []
    },
    {
      "cell_type": "code",
      "metadata": {
        "colab": {
          "base_uri": "https://localhost:8080/"
        },
        "id": "qvl8aZUrjY6s",
        "outputId": "ef04f11d-2ff3-41f8-9750-bc9e2988d58a"
      },
      "source": [
        "(X_train,y_train),(X_test,y_test) = keras.datasets.mnist.load_data()"
      ],
      "execution_count": 6,
      "outputs": [
        {
          "output_type": "stream",
          "name": "stdout",
          "text": [
            "Downloading data from https://storage.googleapis.com/tensorflow/tf-keras-datasets/mnist.npz\n",
            "11493376/11490434 [==============================] - 0s 0us/step\n",
            "11501568/11490434 [==============================] - 0s 0us/step\n"
          ]
        }
      ]
    },
    {
      "cell_type": "code",
      "metadata": {
        "colab": {
          "base_uri": "https://localhost:8080/"
        },
        "id": "XhBeVfFVjeK0",
        "outputId": "f914e296-def5-4176-f8f6-5d03eabb999c"
      },
      "source": [
        "X_train.shape"
      ],
      "execution_count": 7,
      "outputs": [
        {
          "output_type": "execute_result",
          "data": {
            "text/plain": [
              "(60000, 28, 28)"
            ]
          },
          "metadata": {},
          "execution_count": 7
        }
      ]
    },
    {
      "cell_type": "code",
      "metadata": {
        "colab": {
          "base_uri": "https://localhost:8080/"
        },
        "id": "mGzVGfoLjok0",
        "outputId": "f82054ae-cc4f-4878-a267-7af126810c31"
      },
      "source": [
        "y_test.shape"
      ],
      "execution_count": 9,
      "outputs": [
        {
          "output_type": "execute_result",
          "data": {
            "text/plain": [
              "(10000,)"
            ]
          },
          "metadata": {},
          "execution_count": 9
        }
      ]
    },
    {
      "cell_type": "code",
      "metadata": {
        "colab": {
          "base_uri": "https://localhost:8080/"
        },
        "id": "tc3VdGR2k8py",
        "outputId": "914c185b-5bee-4326-fefe-51098512f60c"
      },
      "source": [
        "y_train[0]"
      ],
      "execution_count": 21,
      "outputs": [
        {
          "output_type": "execute_result",
          "data": {
            "text/plain": [
              "5"
            ]
          },
          "metadata": {},
          "execution_count": 21
        }
      ]
    },
    {
      "cell_type": "code",
      "metadata": {
        "colab": {
          "base_uri": "https://localhost:8080/"
        },
        "id": "kAyZG4DfjsXD",
        "outputId": "cf0f46d7-978e-4848-81b5-8a079d4c61b0"
      },
      "source": [
        "y_test[:5]"
      ],
      "execution_count": 10,
      "outputs": [
        {
          "output_type": "execute_result",
          "data": {
            "text/plain": [
              "array([7, 2, 1, 0, 4], dtype=uint8)"
            ]
          },
          "metadata": {},
          "execution_count": 10
        }
      ]
    },
    {
      "cell_type": "code",
      "metadata": {
        "id": "V8xtoQCFjtaA"
      },
      "source": [
        "def plot_sample(X,y,index):\n",
        "  plt.figure(figsize=(15,2))\n",
        "  plt.imshow(X[index])"
      ],
      "execution_count": 15,
      "outputs": []
    },
    {
      "cell_type": "code",
      "metadata": {
        "colab": {
          "base_uri": "https://localhost:8080/",
          "height": 159
        },
        "id": "D0VnAUZRj3yW",
        "outputId": "52c60eb7-0bd1-4bbe-d671-dc89343a23a1"
      },
      "source": [
        "plot_sample(X_train,y_train,0)"
      ],
      "execution_count": 16,
      "outputs": [
        {
          "output_type": "display_data",
          "data": {
            "image/png": "[encoded data removed]",
            "text/plain": [
              "<Figure size 1080x144 with 1 Axes>"
            ]
          },
          "metadata": {
            "needs_background": "light"
          }
        }
      ]
    },
    {
      "cell_type": "code",
      "metadata": {
        "id": "EosReB0Gj_14"
      },
      "source": [
        "# Normalize \n",
        "X_train = X_train / 255.0\n",
        "X_test  = X_test / 255.0"
      ],
      "execution_count": 20,
      "outputs": []
    },
    {
      "cell_type": "code",
      "metadata": {
        "id": "ABPpSTiOn_8L"
      },
      "source": [
        "# flatten into 1 D\n",
        "X_train_flattened = X_train.reshape(len(X_train),28*28)\n",
        "X_test_flattened  = X_test.reshape(len(X_test),28*28)"
      ],
      "execution_count": 34,
      "outputs": []
    },
    {
      "cell_type": "code",
      "metadata": {
        "colab": {
          "base_uri": "https://localhost:8080/"
        },
        "id": "4Qm3LOeMoKew",
        "outputId": "a835dbe0-897e-4c7d-ba41-c96a68b9fb86"
      },
      "source": [
        "X_train_flattened.shape"
      ],
      "execution_count": 36,
      "outputs": [
        {
          "output_type": "execute_result",
          "data": {
            "text/plain": [
              "(60000, 784)"
            ]
          },
          "metadata": {},
          "execution_count": 36
        }
      ]
    },
    {
      "cell_type": "code",
      "metadata": {
        "id": "_OvfE8Vunkap"
      },
      "source": [
        "# To 1 Dimension\n",
        "y_train = y_train.reshape(-1,)\n",
        "y_test  = y_test.reshape(-1,)"
      ],
      "execution_count": 31,
      "outputs": []
    },
    {
      "cell_type": "code",
      "metadata": {
        "colab": {
          "base_uri": "https://localhost:8080/"
        },
        "id": "be89zTrDkX0D",
        "outputId": "47cdfdc4-ccbb-4229-a504-447b12d16adf"
      },
      "source": [
        "# build ANN Model\n",
        "ann = models.Sequential([\n",
        "      # simple ann with no hidden layer \n",
        "      layers.Dense(10,\n",
        "                   input_shape = (784,),\n",
        "                   activation = 'softmax')\n",
        "])\n",
        "\n",
        "ann.compile(\n",
        "    optimizer = 'SGD',\n",
        "    loss = 'sparse_categorical_crossentropy',\n",
        "    metrics = ['accuracy']\n",
        ")\n",
        "\n",
        "ann.fit(X_train_flattened,y_train,epochs = 5)"
      ],
      "execution_count": 44,
      "outputs": [
        {
          "output_type": "stream",
          "name": "stdout",
          "text": [
            "Epoch 1/5\n",
            "1875/1875 [==============================] - 3s 2ms/step - loss: 0.7832 - accuracy: 0.8108\n",
            "Epoch 2/5\n",
            "1875/1875 [==============================] - 3s 2ms/step - loss: 0.4591 - accuracy: 0.8788\n",
            "Epoch 3/5\n",
            "1875/1875 [==============================] - 3s 2ms/step - loss: 0.4055 - accuracy: 0.8896\n",
            "Epoch 4/5\n",
            "1875/1875 [==============================] - 3s 2ms/step - loss: 0.3785 - accuracy: 0.8962\n",
            "Epoch 5/5\n",
            "1875/1875 [==============================] - 3s 2ms/step - loss: 0.3614 - accuracy: 0.9003\n"
          ]
        },
        {
          "output_type": "execute_result",
          "data": {
            "text/plain": [
              "<keras.callbacks.History at 0x7f8b6d56a610>"
            ]
          },
          "metadata": {},
          "execution_count": 44
        }
      ]
    },
    {
      "cell_type": "code",
      "metadata": {
        "colab": {
          "base_uri": "https://localhost:8080/"
        },
        "id": "2SO_iVt6lFvr",
        "outputId": "09ecde41-72e4-4a32-e1bc-df20918925e2"
      },
      "source": [
        "ann.evaluate(X_test_flattened,y_test)"
      ],
      "execution_count": 45,
      "outputs": [
        {
          "output_type": "stream",
          "name": "stdout",
          "text": [
            "313/313 [==============================] - 1s 2ms/step - loss: 0.3362 - accuracy: 0.9094\n"
          ]
        },
        {
          "output_type": "execute_result",
          "data": {
            "text/plain": [
              "[0.33624935150146484, 0.9093999862670898]"
            ]
          },
          "metadata": {},
          "execution_count": 45
        }
      ]
    },
    {
      "cell_type": "code",
      "metadata": {
        "colab": {
          "base_uri": "https://localhost:8080/"
        },
        "id": "w0nt0whGlHgF",
        "outputId": "e9cd5b21-2171-44d8-8817-5e9fc7e50028"
      },
      "source": [
        "# accuracy 49% at 5 epochs\n",
        "from sklearn.metrics import confusion_matrix , classification_report\n",
        "import numpy as np\n",
        "\n",
        "y_pred = ann.predict(X_test_flattened)\n",
        "\n",
        "y_pred_classes = [np.argmax(elem) for elem in y_pred]\n",
        "\n",
        "print(\"Classification Report: \\n\", classification_report(y_test, y_pred_classes))"
      ],
      "execution_count": 46,
      "outputs": [
        {
          "output_type": "stream",
          "name": "stdout",
          "text": [
            "Classification Report: \n",
            "               precision    recall  f1-score   support\n",
            "\n",
            "           0       0.94      0.98      0.96       980\n",
            "           1       0.95      0.97      0.96      1135\n",
            "           2       0.92      0.87      0.89      1032\n",
            "           3       0.90      0.89      0.90      1010\n",
            "           4       0.90      0.93      0.91       982\n",
            "           5       0.88      0.85      0.87       892\n",
            "           6       0.93      0.94      0.93       958\n",
            "           7       0.93      0.89      0.91      1028\n",
            "           8       0.86      0.87      0.86       974\n",
            "           9       0.88      0.89      0.88      1009\n",
            "\n",
            "    accuracy                           0.91     10000\n",
            "   macro avg       0.91      0.91      0.91     10000\n",
            "weighted avg       0.91      0.91      0.91     10000\n",
            "\n"
          ]
        }
      ]
    },
    {
      "cell_type": "code",
      "metadata": {
        "colab": {
          "base_uri": "https://localhost:8080/"
        },
        "id": "x5cg25dbo8EC",
        "outputId": "aae9ea76-e919-4827-f174-92c0efe39bca"
      },
      "source": [
        "y_predicted_labels = [np.argmax(i) for i in y_pred]\n",
        "cm = tf.math.confusion_matrix(labels=y_test,predictions=y_predicted_labels)\n",
        "cm"
      ],
      "execution_count": 50,
      "outputs": [
        {
          "output_type": "execute_result",
          "data": {
            "text/plain": [
              "<tf.Tensor: shape=(10, 10), dtype=int32, numpy=\n",
              "array([[ 959,    0,    3,    2,    0,    3,    7,    1,    5,    0],\n",
              "       [   0, 1103,    2,    3,    1,    2,    4,    1,   19,    0],\n",
              "       [  10,    9,  893,   18,   14,    2,   16,   18,   44,    8],\n",
              "       [   5,    2,   19,  901,    1,   37,    3,   11,   19,   12],\n",
              "       [   1,    4,    3,    1,  912,    1,    9,    1,    8,   42],\n",
              "       [  10,    3,    1,   37,   14,  761,   16,    6,   35,    9],\n",
              "       [  14,    3,    6,    1,   15,   15,  900,    1,    3,    0],\n",
              "       [   3,   19,   28,    4,   12,    0,    0,  919,    3,   40],\n",
              "       [  10,    9,    9,   23,    8,   26,   13,   14,  848,   14],\n",
              "       [   9,    7,    5,   10,   39,   17,    0,   17,    7,  898]],\n",
              "      dtype=int32)>"
            ]
          },
          "metadata": {},
          "execution_count": 50
        }
      ]
    },
    {
      "cell_type": "code",
      "metadata": {
        "colab": {
          "base_uri": "https://localhost:8080/",
          "height": 460
        },
        "id": "gJiVoKCxo5q8",
        "outputId": "15d136a5-b2e0-42e5-dcfa-8996be88f4a7"
      },
      "source": [
        "import seaborn as sn\n",
        "plt.figure(figsize = (10,7))\n",
        "sn.heatmap(cm, annot=True, fmt='d')\n",
        "plt.xlabel('Predicted')\n",
        "plt.ylabel('Truth')"
      ],
      "execution_count": 51,
      "outputs": [
        {
          "output_type": "execute_result",
          "data": {
            "text/plain": [
              "Text(69.0, 0.5, 'Truth')"
            ]
          },
          "metadata": {},
          "execution_count": 51
        },
        {
          "output_type": "display_data",
          "data": {
            "image/png": "[encoded data removed]",
            "text/plain": [
              "<Figure size 720x504 with 2 Axes>"
            ]
          },
          "metadata": {
            "needs_background": "light"
          }
        }
      ]
    },
    {
      "cell_type": "code",
      "metadata": {
        "colab": {
          "base_uri": "https://localhost:8080/"
        },
        "id": "FGL-_F11pI-4",
        "outputId": "a6432d85-f499-466c-b184-02fe9a138997"
      },
      "source": [
        "# use hidden layers\n",
        "ann = models.Sequential([\n",
        "      keras.layers.Flatten(input_shape = (28,28)),\n",
        "      keras.layers.Dense(100,activation = 'relu'),\n",
        "      keras.layers.Dense(10,activation = 'sigmoid')\n",
        "])\n",
        "\n",
        "ann.compile(\n",
        "    optimizer = 'SGD',\n",
        "    loss = 'sparse_categorical_crossentropy',\n",
        "    metrics = ['accuracy']\n",
        ")\n",
        "\n",
        "# ann.fit(X_train_flattened,y_train,epochs = 5)\n",
        "ann.fit(X_train,y_train,epochs = 5)"
      ],
      "execution_count": 53,
      "outputs": [
        {
          "output_type": "stream",
          "name": "stdout",
          "text": [
            "Epoch 1/5\n",
            "1875/1875 [==============================] - 6s 3ms/step - loss: 0.6602 - accuracy: 0.8322\n",
            "Epoch 2/5\n",
            "1875/1875 [==============================] - 5s 3ms/step - loss: 0.3394 - accuracy: 0.9049\n",
            "Epoch 3/5\n",
            "1875/1875 [==============================] - 5s 3ms/step - loss: 0.2897 - accuracy: 0.9179\n",
            "Epoch 4/5\n",
            "1875/1875 [==============================] - 4s 2ms/step - loss: 0.2588 - accuracy: 0.9264\n",
            "Epoch 5/5\n",
            "1875/1875 [==============================] - 4s 2ms/step - loss: 0.2357 - accuracy: 0.9333\n"
          ]
        },
        {
          "output_type": "execute_result",
          "data": {
            "text/plain": [
              "<keras.callbacks.History at 0x7f8b667c2fd0>"
            ]
          },
          "metadata": {},
          "execution_count": 53
        }
      ]
    },
    {
      "cell_type": "code",
      "metadata": {
        "colab": {
          "base_uri": "https://localhost:8080/"
        },
        "id": "IH6-BEWiph-i",
        "outputId": "897347f3-59e7-4e27-ba85-3b5a2042d0a3"
      },
      "source": [
        "ann.evaluate(X_test,y_test)"
      ],
      "execution_count": 54,
      "outputs": [
        {
          "output_type": "stream",
          "name": "stdout",
          "text": [
            "313/313 [==============================] - 1s 2ms/step - loss: 0.2184 - accuracy: 0.9380\n"
          ]
        },
        {
          "output_type": "execute_result",
          "data": {
            "text/plain": [
              "[0.21844696998596191, 0.9380000233650208]"
            ]
          },
          "metadata": {},
          "execution_count": 54
        }
      ]
    },
    {
      "cell_type": "code",
      "metadata": {
        "id": "a8uHXbLMmnWk"
      },
      "source": [
        "cnn = models.Sequential([\n",
        "    # cnn --\n",
        "    # filter 개수와 filter 크기\n",
        "    layers.Conv2D(\n",
        "        filters = 32,\n",
        "        activation = 'relu',\n",
        "        kernel_size = (3,3),\n",
        "        input_shape = (28,28,1)\n",
        "    ),\n",
        "    layers.MaxPooling2D((2,2)),\n",
        "\n",
        "    layers.Conv2D(\n",
        "        filters = 64,\n",
        "        activation = 'relu',\n",
        "        kernel_size = (3,3),\n",
        "        input_shape = (28,28,1)\n",
        "    ),\n",
        "    layers.MaxPooling2D((2,2)),\n",
        "\n",
        "    # dense network\n",
        "    layers.Flatten(),\n",
        "    layers.Dense(64, activation = 'relu'),\n",
        "    layers.Dense(10, activation = 'softmax')\n",
        "])"
      ],
      "execution_count": 56,
      "outputs": []
    },
    {
      "cell_type": "code",
      "metadata": {
        "id": "CK9e2xm1nSjs"
      },
      "source": [
        "cnn.compile(optimizer = 'adam',\n",
        "            loss = 'sparse_categorical_crossentropy',\n",
        "            metrics = ['accuracy'])"
      ],
      "execution_count": 57,
      "outputs": []
    },
    {
      "cell_type": "code",
      "metadata": {
        "colab": {
          "base_uri": "https://localhost:8080/"
        },
        "id": "dej-nUGRnaV9",
        "outputId": "910b68de-948a-4e1c-ada2-7de8cdcd7534"
      },
      "source": [
        "cnn.fit(X_train,y_train,epochs = 5)"
      ],
      "execution_count": 59,
      "outputs": [
        {
          "output_type": "stream",
          "name": "stdout",
          "text": [
            "Epoch 1/5\n",
            "1875/1875 [==============================] - 58s 31ms/step - loss: 0.0496 - accuracy: 0.9846\n",
            "Epoch 2/5\n",
            "1875/1875 [==============================] - 58s 31ms/step - loss: 0.0330 - accuracy: 0.9897\n",
            "Epoch 3/5\n",
            "1875/1875 [==============================] - 58s 31ms/step - loss: 0.0246 - accuracy: 0.9924\n",
            "Epoch 4/5\n",
            "1875/1875 [==============================] - 58s 31ms/step - loss: 0.0187 - accuracy: 0.9939\n",
            "Epoch 5/5\n",
            "1875/1875 [==============================] - 58s 31ms/step - loss: 0.0140 - accuracy: 0.9954\n"
          ]
        },
        {
          "output_type": "execute_result",
          "data": {
            "text/plain": [
              "<keras.callbacks.History at 0x7f8b6d6d4a10>"
            ]
          },
          "metadata": {},
          "execution_count": 59
        }
      ]
    },
    {
      "cell_type": "code",
      "metadata": {
        "colab": {
          "base_uri": "https://localhost:8080/"
        },
        "id": "bJNJt5UCndES",
        "outputId": "ea72496a-2369-4122-974f-2a07b7fad80a"
      },
      "source": [
        "cnn.evaluate(X_test,y_test)"
      ],
      "execution_count": 60,
      "outputs": [
        {
          "output_type": "stream",
          "name": "stdout",
          "text": [
            "313/313 [==============================] - 4s 11ms/step - loss: 0.0302 - accuracy: 0.9920\n"
          ]
        },
        {
          "output_type": "execute_result",
          "data": {
            "text/plain": [
              "[0.030170800164341927, 0.9919999837875366]"
            ]
          },
          "metadata": {},
          "execution_count": 60
        }
      ]
    },
    {
      "cell_type": "code",
      "metadata": {
        "id": "FPtLcQ1pnfn5"
      },
      "source": [
        "y_pred = cnn.predict(X_test)"
      ],
      "execution_count": 61,
      "outputs": []
    },
    {
      "cell_type": "code",
      "metadata": {
        "id": "JzAlHXxuqGsK"
      },
      "source": [
        "y_classes = [np.argmax(elem) for elem in y_pred]"
      ],
      "execution_count": 62,
      "outputs": []
    },
    {
      "cell_type": "code",
      "metadata": {
        "colab": {
          "base_uri": "https://localhost:8080/"
        },
        "id": "RCiytWVtrkjg",
        "outputId": "719a4c3d-9eb6-4ebd-8f9c-2a3fe93e6cc7"
      },
      "source": [
        "from sklearn.metrics import confusion_matrix , classification_report\n",
        "import numpy as np\n",
        "\n",
        "y_pred_classes = [np.argmax(elem) for elem in y_pred]\n",
        "\n",
        "print(\"Classification Report: \\n\", classification_report(y_test, y_pred_classes))"
      ],
      "execution_count": 65,
      "outputs": [
        {
          "output_type": "stream",
          "name": "stdout",
          "text": [
            "Classification Report: \n",
            "               precision    recall  f1-score   support\n",
            "\n",
            "           0       0.99      1.00      0.99       980\n",
            "           1       0.99      1.00      1.00      1135\n",
            "           2       0.99      0.99      0.99      1032\n",
            "           3       0.99      0.99      0.99      1010\n",
            "           4       0.99      1.00      0.99       982\n",
            "           5       0.99      0.99      0.99       892\n",
            "           6       1.00      0.99      0.99       958\n",
            "           7       0.99      0.99      0.99      1028\n",
            "           8       1.00      0.99      0.99       974\n",
            "           9       1.00      0.99      0.99      1009\n",
            "\n",
            "    accuracy                           0.99     10000\n",
            "   macro avg       0.99      0.99      0.99     10000\n",
            "weighted avg       0.99      0.99      0.99     10000\n",
            "\n"
          ]
        }
      ]
    },
    {
      "cell_type": "code",
      "metadata": {
        "colab": {
          "base_uri": "https://localhost:8080/"
        },
        "id": "omZawpIarl6V",
        "outputId": "fe093ba2-8de7-42be-df99-049d5c611649"
      },
      "source": [
        "y_pred_classes[:5]"
      ],
      "execution_count": 66,
      "outputs": [
        {
          "output_type": "execute_result",
          "data": {
            "text/plain": [
              "[7, 2, 1, 0, 4]"
            ]
          },
          "metadata": {},
          "execution_count": 66
        }
      ]
    },
    {
      "cell_type": "code",
      "metadata": {
        "colab": {
          "base_uri": "https://localhost:8080/"
        },
        "id": "piP9iT3yr4Fz",
        "outputId": "faf455ac-3896-4998-f1b1-622331e69bc2"
      },
      "source": [
        "y_test[:5]"
      ],
      "execution_count": 67,
      "outputs": [
        {
          "output_type": "execute_result",
          "data": {
            "text/plain": [
              "array([7, 2, 1, 0, 4], dtype=uint8)"
            ]
          },
          "metadata": {},
          "execution_count": 67
        }
      ]
    }
  ]
}
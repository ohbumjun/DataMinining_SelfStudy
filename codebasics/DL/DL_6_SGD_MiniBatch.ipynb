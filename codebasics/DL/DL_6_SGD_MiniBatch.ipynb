{
  "nbformat": 4,
  "nbformat_minor": 0,
  "metadata": {
    "colab": {
      "name": "DL_5_SGD.ipynb",
      "provenance": []
    },
    "kernelspec": {
      "name": "python3",
      "display_name": "Python 3"
    },
    "language_info": {
      "name": "python"
    }
  },
  "cells": [
    {
      "cell_type": "code",
      "metadata": {
        "id": "sLZBb4OXjpDB"
      },
      "source": [
        "import pandas as pd\n",
        "import numpy as np\n",
        "import matplotlib\n",
        "from tensorflow import keras\n",
        "import os\n",
        "from sklearn.cluster import KMeans\n",
        "from matplotlib import pyplot as plt \n",
        "from sklearn.preprocessing import MinMaxScaler \n",
        "\n",
        "# read data set\n",
        "base_src = './drive/MyDrive/machine_learning/datasets/codebasics'\n",
        "friend_src = base_src + '/homeprices_banglore.csv'\n"
      ],
      "execution_count": 11,
      "outputs": []
    },
    {
      "cell_type": "code",
      "metadata": {
        "colab": {
          "base_uri": "https://localhost:8080/",
          "height": 202
        },
        "id": "QIUNAL2djvMY",
        "outputId": "2b684016-259d-4068-d34d-0f292c14dba0"
      },
      "source": [
        "df = pd.read_csv(friend_src)\n",
        "df.sample(5)"
      ],
      "execution_count": 12,
      "outputs": [
        {
          "output_type": "execute_result",
          "data": {
            "text/html": [
              "<div>\n",
              "<style scoped>\n",
              "    .dataframe tbody tr th:only-of-type {\n",
              "        vertical-align: middle;\n",
              "    }\n",
              "\n",
              "    .dataframe tbody tr th {\n",
              "        vertical-align: top;\n",
              "    }\n",
              "\n",
              "    .dataframe thead th {\n",
              "        text-align: right;\n",
              "    }\n",
              "</style>\n",
              "<table border=\"1\" class=\"dataframe\">\n",
              "  <thead>\n",
              "    <tr style=\"text-align: right;\">\n",
              "      <th></th>\n",
              "      <th>area</th>\n",
              "      <th>bedrooms</th>\n",
              "      <th>price</th>\n",
              "    </tr>\n",
              "  </thead>\n",
              "  <tbody>\n",
              "    <tr>\n",
              "      <th>11</th>\n",
              "      <td>2785</td>\n",
              "      <td>4</td>\n",
              "      <td>140.0</td>\n",
              "    </tr>\n",
              "    <tr>\n",
              "      <th>15</th>\n",
              "      <td>1175</td>\n",
              "      <td>2</td>\n",
              "      <td>42.0</td>\n",
              "    </tr>\n",
              "    <tr>\n",
              "      <th>6</th>\n",
              "      <td>2732</td>\n",
              "      <td>4</td>\n",
              "      <td>135.0</td>\n",
              "    </tr>\n",
              "    <tr>\n",
              "      <th>1</th>\n",
              "      <td>2600</td>\n",
              "      <td>4</td>\n",
              "      <td>120.0</td>\n",
              "    </tr>\n",
              "    <tr>\n",
              "      <th>10</th>\n",
              "      <td>1800</td>\n",
              "      <td>3</td>\n",
              "      <td>82.0</td>\n",
              "    </tr>\n",
              "  </tbody>\n",
              "</table>\n",
              "</div>"
            ],
            "text/plain": [
              "    area  bedrooms  price\n",
              "11  2785         4  140.0\n",
              "15  1175         2   42.0\n",
              "6   2732         4  135.0\n",
              "1   2600         4  120.0\n",
              "10  1800         3   82.0"
            ]
          },
          "metadata": {},
          "execution_count": 12
        }
      ]
    },
    {
      "cell_type": "code",
      "metadata": {
        "colab": {
          "base_uri": "https://localhost:8080/"
        },
        "id": "R231u2fakFZ3",
        "outputId": "b021fc94-984e-4573-cf1e-f14652237857"
      },
      "source": [
        "# scale\n",
        "from sklearn import preprocessing \n",
        "sx = preprocessing.MinMaxScaler()\n",
        "sy = preprocessing.MinMaxScaler()\n",
        "\n",
        "scaled_X = sx.fit_transform(df.drop('price',axis='columns'))\n",
        "scaled_X"
      ],
      "execution_count": 13,
      "outputs": [
        {
          "output_type": "execute_result",
          "data": {
            "text/plain": [
              "array([[0.08827586, 0.25      ],\n",
              "       [0.62068966, 0.75      ],\n",
              "       [0.22068966, 0.5       ],\n",
              "       [0.24862069, 0.5       ],\n",
              "       [0.13793103, 0.25      ],\n",
              "       [0.12758621, 0.25      ],\n",
              "       [0.6662069 , 0.75      ],\n",
              "       [0.86206897, 0.75      ],\n",
              "       [0.17586207, 0.5       ],\n",
              "       [1.        , 1.        ],\n",
              "       [0.34482759, 0.5       ],\n",
              "       [0.68448276, 0.75      ],\n",
              "       [0.06896552, 0.25      ],\n",
              "       [0.10344828, 0.25      ],\n",
              "       [0.5       , 0.5       ],\n",
              "       [0.12931034, 0.25      ],\n",
              "       [0.13103448, 0.5       ],\n",
              "       [0.25517241, 0.5       ],\n",
              "       [0.67931034, 0.5       ],\n",
              "       [0.        , 0.        ]])"
            ]
          },
          "metadata": {},
          "execution_count": 13
        }
      ]
    },
    {
      "cell_type": "code",
      "metadata": {
        "colab": {
          "base_uri": "https://localhost:8080/"
        },
        "id": "ptkTTLz-kdOl",
        "outputId": "a2485fb2-03cc-4643-e79d-f0d8380ebdf9"
      },
      "source": [
        "scaled_y = sy.fit_transform(df['price'].values.reshape(df.shape[0],1))\n",
        "scaled_y"
      ],
      "execution_count": 56,
      "outputs": [
        {
          "output_type": "execute_result",
          "data": {
            "text/plain": [
              "array([[0.05237037],\n",
              "       [0.65185185],\n",
              "       [0.22222222],\n",
              "       [0.31851852],\n",
              "       [0.14074074],\n",
              "       [0.04444444],\n",
              "       [0.76296296],\n",
              "       [0.91111111],\n",
              "       [0.13333333],\n",
              "       [1.        ],\n",
              "       [0.37037037],\n",
              "       [0.8       ],\n",
              "       [0.04444444],\n",
              "       [0.05925926],\n",
              "       [0.51111111],\n",
              "       [0.07407407],\n",
              "       [0.11851852],\n",
              "       [0.20740741],\n",
              "       [0.51851852],\n",
              "       [0.        ]])"
            ]
          },
          "metadata": {},
          "execution_count": 56
        }
      ]
    },
    {
      "cell_type": "code",
      "metadata": {
        "colab": {
          "base_uri": "https://localhost:8080/"
        },
        "id": "zXcYJdmEwF8n",
        "outputId": "f0c5d823-4ba9-4aac-e58f-6ad936770ddc"
      },
      "source": [
        "print(len(scaled_y))"
      ],
      "execution_count": 54,
      "outputs": [
        {
          "output_type": "stream",
          "name": "stdout",
          "text": [
            "20\n"
          ]
        }
      ]
    },
    {
      "cell_type": "code",
      "metadata": {
        "id": "Nr248vgbk1kc"
      },
      "source": [
        "def batch_gradient_descent(X,y_true,epochs,learning_rate = 0.01) :\n",
        "  number_of_features = X.shape[1] # num of features(colums)\n",
        "  # w1,w2,bias\n",
        "  w = np.ones(shape=(number_of_features)) # w1,w2를 반환\n",
        "  b = 0 # 0으로 초기화 \n",
        "  total_samples = X.shape[0]\n",
        "\n",
        "  cost_list  = []\n",
        "  epoch_list = []\n",
        "\n",
        "  for i in range(epochs) :\n",
        "    # calculated y_predicted\n",
        "    # y_predicted = w[0]*X['area'] + w[1]*X['bedrooms'] + b\n",
        "    y_predicted = np.dot(w,X.T) + b\n",
        "\n",
        "    w_grad = -(2/total_samples) * (X.T.dot(y_true-y_predicted))\n",
        "    b_grad = -(2/total_samples) * np.sum(y_true-y_predicted)\n",
        "\n",
        "    w = w - learning_rate * w_grad\n",
        "    b = b - learning_rate * b_grad\n",
        "\n",
        "    cost = np.mean(np.square(y_true - y_predicted))\n",
        "\n",
        "    if i % 10 == 0 :\n",
        "      cost_list.append(cost)\n",
        "      epoch_list.append(i)\n",
        "  return w,b,cost,cost_list,epoch_list\n"
      ],
      "execution_count": 22,
      "outputs": []
    },
    {
      "cell_type": "code",
      "metadata": {
        "id": "gji6Zvq-oQFr"
      },
      "source": [
        "w,b,cost,cost_list,epoch_list = batch_gradient_descent(scaled_X,scaled_y.reshape(scaled_y.shape[0],),500)"
      ],
      "execution_count": 23,
      "outputs": []
    },
    {
      "cell_type": "code",
      "metadata": {
        "colab": {
          "base_uri": "https://localhost:8080/"
        },
        "id": "aUkVG-qjoH8y",
        "outputId": "c07f9c9d-235d-4370-a34e-d1818f11867f"
      },
      "source": [
        "w,b,cost"
      ],
      "execution_count": 24,
      "outputs": [
        {
          "output_type": "execute_result",
          "data": {
            "text/plain": [
              "(array([0.70712464, 0.67456527]), -0.23034857438407427, 0.0068641890429808105)"
            ]
          },
          "metadata": {},
          "execution_count": 24
        }
      ]
    },
    {
      "cell_type": "code",
      "metadata": {
        "colab": {
          "base_uri": "https://localhost:8080/",
          "height": 297
        },
        "id": "pQiSKzZpogSX",
        "outputId": "4e657c56-30ac-456c-82fc-e16b82c03e2d"
      },
      "source": [
        "# see how cost reduce\n",
        "plt.xlabel('epoch')\n",
        "plt.ylabel('cost')\n",
        "plt.plot(epoch_list,cost_list)"
      ],
      "execution_count": 26,
      "outputs": [
        {
          "output_type": "execute_result",
          "data": {
            "text/plain": [
              "[<matplotlib.lines.Line2D at 0x7f4baebf4e90>]"
            ]
          },
          "metadata": {},
          "execution_count": 26
        },
        {
          "output_type": "display_data",
          "data": {
            "image/png": "[encoded data removed]",
            "text/plain": [
              "<Figure size 432x288 with 1 Axes>"
            ]
          },
          "metadata": {
            "needs_background": "light"
          }
        }
      ]
    },
    {
      "cell_type": "code",
      "metadata": {
        "colab": {
          "base_uri": "https://localhost:8080/"
        },
        "id": "sInyIjx8om8L",
        "outputId": "009df458-737a-4795-8023-8dd994a3c1a3"
      },
      "source": [
        "# stochastic gradient descent\n",
        "def predict(area,bedrooms,w,b) :\n",
        "  # 2차원 배열 return --> 그 중 1st dimension을 return 받고 싶다 \n",
        "  scaled_X     = sx.transform([[area,bedrooms]])[0]\n",
        "  scaled_price = w[0] * scaled_X[0] + w[1] * scaled_X[1] + b\n",
        "  # reverse Transform ( 0 ~ 1 에서 actual price를 얻어내야 한다)\n",
        "  return sy.inverse_transform([[scaled_price]])[0][0]"
      ],
      "execution_count": 28,
      "outputs": [
        {
          "output_type": "execute_result",
          "data": {
            "text/plain": [
              "128.45484403267596"
            ]
          },
          "metadata": {},
          "execution_count": 28
        }
      ]
    },
    {
      "cell_type": "code",
      "metadata": {
        "colab": {
          "base_uri": "https://localhost:8080/"
        },
        "id": "xjc7QbocprpR",
        "outputId": "4b52f2fc-7562-478b-a257-8ff06b1b569c"
      },
      "source": [
        "predict(2600,4,w,b)"
      ],
      "execution_count": 29,
      "outputs": [
        {
          "output_type": "execute_result",
          "data": {
            "text/plain": [
              "128.45484403267596"
            ]
          },
          "metadata": {},
          "execution_count": 29
        }
      ]
    },
    {
      "cell_type": "code",
      "metadata": {
        "colab": {
          "base_uri": "https://localhost:8080/"
        },
        "id": "2sYKHNaMptew",
        "outputId": "3501aadb-8c2a-4b49-fba3-4f2969b1c879"
      },
      "source": [
        "predict(1000,2,w,b)"
      ],
      "execution_count": 30,
      "outputs": [
        {
          "output_type": "execute_result",
          "data": {
            "text/plain": [
              "30.253094462442355"
            ]
          },
          "metadata": {},
          "execution_count": 30
        }
      ]
    },
    {
      "cell_type": "code",
      "metadata": {
        "colab": {
          "base_uri": "https://localhost:8080/"
        },
        "id": "MqlrEaMBqGtQ",
        "outputId": "ea3751c4-2be8-40fd-af93-a50514acfb23"
      },
      "source": [
        "import random\n",
        "random.randint(0,6) # 0 ~ 6 사이 random 숫자 반환"
      ],
      "execution_count": 31,
      "outputs": [
        {
          "output_type": "execute_result",
          "data": {
            "text/plain": [
              "6"
            ]
          },
          "metadata": {},
          "execution_count": 31
        }
      ]
    },
    {
      "cell_type": "code",
      "metadata": {
        "id": "IfLSCnt-pwSe"
      },
      "source": [
        "def stochastic_gradient_descent(X,y_true,epochs,learning_rate = 0.01):\n",
        "  number_of_features = X.shape[1]\n",
        "\n",
        "  w = np.ones(shape=(number_of_features))\n",
        "  b = 0\n",
        "  total_samples = X.shape[0]\n",
        "\n",
        "  cost_list  = []\n",
        "  epoch_list = []\n",
        "\n",
        "  for i in range(epochs) : \n",
        "    random_index = random.randint(0,total_samples-1)\n",
        "    sample_x = X[random_index]\n",
        "    sample_y = y_true[random_index]\n",
        "    y_predicted = np.dot(w,sample_x.T) * b\n",
        "\n",
        "    w_grad = -(2/total_samples) * (sample_x.T.dot(sample_y-y_predicted))\n",
        "    b_grad = -(2/total_samples) * (sample_y-y_predicted)\n",
        "\n",
        "    w = w - learning_rate * w_grad\n",
        "    b = b - learning_rate * b_grad\n",
        "\n",
        "    cost = np.mean(np.square(sample_y - y_predicted))\n",
        "\n",
        "    if i % 100 == 0 :\n",
        "      cost_list.append(cost)\n",
        "      epoch_list.append(i)\n",
        "  return w,b,cost,cost_list,epoch_list\n"
      ],
      "execution_count": 40,
      "outputs": []
    },
    {
      "cell_type": "code",
      "metadata": {
        "colab": {
          "base_uri": "https://localhost:8080/"
        },
        "id": "04NlFrXaqpY4",
        "outputId": "0ca5fe26-bb62-4766-c7d4-c8cf41b73ec2"
      },
      "source": [
        "w_sgd,b_sgd,cost_sgd,cost_list_sgd,epoch_list_sgd = stochastic_gradient_descent(scaled_X,scaled_y.reshape(scaled_y.shape[0],),10000)\n",
        "w_sgd,b_sgd,cost_sgd"
      ],
      "execution_count": 41,
      "outputs": [
        {
          "output_type": "execute_result",
          "data": {
            "text/plain": [
              "(array([1.4510655 , 1.37482961]), 0.30636108732128037, 0.018149185301127965)"
            ]
          },
          "metadata": {},
          "execution_count": 41
        }
      ]
    },
    {
      "cell_type": "code",
      "metadata": {
        "colab": {
          "base_uri": "https://localhost:8080/",
          "height": 297
        },
        "id": "fFEL_uN5rJhY",
        "outputId": "18c047fa-a909-4880-e269-33fc2ae826e1"
      },
      "source": [
        "# see how cost reduce\n",
        "plt.xlabel('epoch')\n",
        "plt.ylabel('cost')\n",
        "plt.plot(epoch_list_sgd,cost_list_sgd)"
      ],
      "execution_count": 42,
      "outputs": [
        {
          "output_type": "execute_result",
          "data": {
            "text/plain": [
              "[<matplotlib.lines.Line2D at 0x7f4bae4c5150>]"
            ]
          },
          "metadata": {},
          "execution_count": 42
        },
        {
          "output_type": "display_data",
          "data": {
            "image/png": "[encoded data removed]",
            "text/plain": [
              "<Figure size 432x288 with 1 Axes>"
            ]
          },
          "metadata": {
            "needs_background": "light"
          }
        }
      ]
    },
    {
      "cell_type": "code",
      "metadata": {
        "colab": {
          "base_uri": "https://localhost:8080/"
        },
        "id": "xOzTdMLPr6nW",
        "outputId": "abc85af0-ef47-44b7-c157-e4923db60d9b"
      },
      "source": [
        "predict(2600,4,w_sgd,b_sgd)"
      ],
      "execution_count": 43,
      "outputs": [
        {
          "output_type": "execute_result",
          "data": {
            "text/plain": [
              "334.1495263250337"
            ]
          },
          "metadata": {},
          "execution_count": 43
        }
      ]
    },
    {
      "cell_type": "code",
      "metadata": {
        "colab": {
          "base_uri": "https://localhost:8080/"
        },
        "id": "KxDPINL2r_DI",
        "outputId": "2237465c-cb7c-48ca-bfa6-039d14ecc0d2"
      },
      "source": [
        "predict(150,3,w_sgd,b_sgd)"
      ],
      "execution_count": 44,
      "outputs": [
        {
          "output_type": "execute_result",
          "data": {
            "text/plain": [
              "122.25250517583596"
            ]
          },
          "metadata": {},
          "execution_count": 44
        }
      ]
    },
    {
      "cell_type": "code",
      "metadata": {
        "colab": {
          "base_uri": "https://localhost:8080/"
        },
        "id": "WtOhgZXouEBu",
        "outputId": "5fc0e981-1bca-46eb-be24-c0a02cadba84"
      },
      "source": [
        "# we should convert target column into one dimensional array\n",
        "# it has become 2d due to scaling we did above\n",
        "# not we should change to 1d\n",
        "# 20인 이유는, 20 행이 존재하기 때문이다\n",
        "scaled_y.reshape(20,)"
      ],
      "execution_count": 68,
      "outputs": [
        {
          "output_type": "execute_result",
          "data": {
            "text/plain": [
              "array([0.05237037, 0.65185185, 0.22222222, 0.31851852, 0.14074074,\n",
              "       0.04444444, 0.76296296, 0.91111111, 0.13333333, 1.        ,\n",
              "       0.37037037, 0.8       , 0.04444444, 0.05925926, 0.51111111,\n",
              "       0.07407407, 0.11851852, 0.20740741, 0.51851852, 0.        ])"
            ]
          },
          "metadata": {},
          "execution_count": 68
        }
      ]
    },
    {
      "cell_type": "code",
      "metadata": {
        "colab": {
          "base_uri": "https://localhost:8080/"
        },
        "id": "VV3jgQohuNgC",
        "outputId": "816cf449-dfb1-4d4a-fbee-da828b41c69c"
      },
      "source": [
        "np.random.permutation(20) "
      ],
      "execution_count": 53,
      "outputs": [
        {
          "output_type": "execute_result",
          "data": {
            "text/plain": [
              "array([19, 12,  1,  3,  4,  6,  8,  5,  2, 13, 17, 18,  0,  7, 14, 15,  9,\n",
              "       11, 10, 16])"
            ]
          },
          "metadata": {},
          "execution_count": 53
        }
      ]
    },
    {
      "cell_type": "code",
      "metadata": {
        "id": "F4sUks97sF-G"
      },
      "source": [
        "def mini_batch_gradient_descent(X, y_true, epochs = 100, batch_size = 5, learning_rate = 0.01):\n",
        "    \n",
        "    number_of_features = X.shape[1]\n",
        "    # numpy array with 1 row and columns equal to number of features. In \n",
        "    # our case number_of_features = 3 (area, bedroom and age)\n",
        "    w = np.ones(shape=(number_of_features)) \n",
        "    b = 0\n",
        "    total_samples = X.shape[0] # number of rows in X\n",
        "    \n",
        "    if batch_size > total_samples: # In this case mini batch becomes same as batch gradient descent\n",
        "        batch_size = total_samples\n",
        "        \n",
        "    cost_list = []\n",
        "    epoch_list = []\n",
        "    \n",
        "    num_batches = int(total_samples/batch_size)\n",
        "    \n",
        "    for i in range(epochs):    \n",
        "        random_indices = np.random.permutation(total_samples)\n",
        "        X_tmp = X[random_indices]\n",
        "        y_tmp = y_true[random_indices]\n",
        "        \n",
        "        for j in range(0,total_samples,batch_size):\n",
        "            Xj = X_tmp[j:j+batch_size]\n",
        "            yj = y_tmp[j:j+batch_size]\n",
        "            y_predicted = np.dot(w, Xj.T) + b\n",
        "            \n",
        "            w_grad = -(2/len(Xj))*(Xj.T.dot(yj-y_predicted))\n",
        "            b_grad = -(2/len(Xj))*np.sum(yj-y_predicted)\n",
        "            \n",
        "            w = w - learning_rate * w_grad\n",
        "            b = b - learning_rate * b_grad\n",
        "                \n",
        "            cost = np.mean(np.square(yj-y_predicted)) # MSE (Mean Squared Error)\n",
        "        \n",
        "        if i%10==0:\n",
        "            cost_list.append(cost)\n",
        "            epoch_list.append(i)\n",
        "        \n",
        "    return w, b, cost, cost_list, epoch_list"
      ],
      "execution_count": 72,
      "outputs": []
    },
    {
      "cell_type": "code",
      "metadata": {
        "colab": {
          "base_uri": "https://localhost:8080/"
        },
        "id": "0DQZ0oNMsgtE",
        "outputId": "f15b1c39-5284-47d7-8a78-933c652ef594"
      },
      "source": [
        "w, b, cost, cost_list, epoch_list = mini_batch_gradient_descent(\n",
        "    scaled_X,\n",
        "    scaled_y.reshape(scaled_y.shape[0],),\n",
        "    epochs = 120,\n",
        "    batch_size = 5\n",
        ")\n",
        "w, b, cost"
      ],
      "execution_count": 75,
      "outputs": [
        {
          "output_type": "execute_result",
          "data": {
            "text/plain": [
              "(array([0.71011549, 0.67816321]), -0.23331262038933584, 0.014511238821330524)"
            ]
          },
          "metadata": {},
          "execution_count": 75
        }
      ]
    },
    {
      "cell_type": "code",
      "metadata": {
        "colab": {
          "base_uri": "https://localhost:8080/",
          "height": 297
        },
        "id": "SeDJybPAtk3A",
        "outputId": "531b203e-3695-4804-dc4e-528c977c9c18"
      },
      "source": [
        "plt.xlabel(\"epoch\")\n",
        "plt.ylabel(\"cost\")\n",
        "plt.plot(epoch_list,cost_list)"
      ],
      "execution_count": 76,
      "outputs": [
        {
          "output_type": "execute_result",
          "data": {
            "text/plain": [
              "[<matplotlib.lines.Line2D at 0x7f4bae1fb590>]"
            ]
          },
          "metadata": {},
          "execution_count": 76
        },
        {
          "output_type": "display_data",
          "data": {
            "image/png": "[encoded data removed]",
            "text/plain": [
              "<Figure size 432x288 with 1 Axes>"
            ]
          },
          "metadata": {
            "needs_background": "light"
          }
        }
      ]
    },
    {
      "cell_type": "code",
      "metadata": {
        "colab": {
          "base_uri": "https://localhost:8080/"
        },
        "id": "cRLQiKExygIF",
        "outputId": "e5dac69d-27bc-4073-8ee2-6e9ebe0bb134"
      },
      "source": [
        "predict(1000,2,w,b)"
      ],
      "execution_count": 77,
      "outputs": [
        {
          "output_type": "execute_result",
          "data": {
            "text/plain": [
              "30.002224629067477"
            ]
          },
          "metadata": {},
          "execution_count": 77
        }
      ]
    }
  ]
}
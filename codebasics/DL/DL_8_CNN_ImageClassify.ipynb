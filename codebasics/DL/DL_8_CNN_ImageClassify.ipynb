{
  "nbformat": 4,
  "nbformat_minor": 0,
  "metadata": {
    "colab": {
      "name": "DL_8_CNN_ImageClassify.ipynb",
      "provenance": []
    },
    "kernelspec": {
      "name": "python3",
      "display_name": "Python 3"
    },
    "language_info": {
      "name": "python"
    }
  },
  "cells": [
    {
      "cell_type": "code",
      "metadata": {
        "id": "lDEn-nrPd9_f"
      },
      "source": [
        "import tensorflow as tf\n",
        "from tensorflow.keras import datasets, layers, models\n",
        "import matplotlib.pyplot as plt\n",
        "import numpy as np"
      ],
      "execution_count": 1,
      "outputs": []
    },
    {
      "cell_type": "code",
      "metadata": {
        "colab": {
          "base_uri": "https://localhost:8080/"
        },
        "id": "nFXEkw6eeEe7",
        "outputId": "780948f9-0ef3-4f27-d6bd-3aaf0b013539"
      },
      "source": [
        "(X_train, y_train), (X_test,y_test) = datasets.cifar10.load_data()\n",
        "X_train.shape"
      ],
      "execution_count": 2,
      "outputs": [
        {
          "output_type": "stream",
          "name": "stdout",
          "text": [
            "Downloading data from https://www.cs.toronto.edu/~kriz/cifar-10-python.tar.gz\n",
            "170500096/170498071 [==============================] - 11s 0us/step\n",
            "170508288/170498071 [==============================] - 11s 0us/step\n"
          ]
        },
        {
          "output_type": "execute_result",
          "data": {
            "text/plain": [
              "(50000, 32, 32, 3)"
            ]
          },
          "metadata": {},
          "execution_count": 2
        }
      ]
    },
    {
      "cell_type": "code",
      "metadata": {
        "colab": {
          "base_uri": "https://localhost:8080/"
        },
        "id": "GZ65jgJteIaS",
        "outputId": "80459c89-c9e4-41de-9d43-2f51b85cb79d"
      },
      "source": [
        "X_test.shape"
      ],
      "execution_count": 3,
      "outputs": [
        {
          "output_type": "execute_result",
          "data": {
            "text/plain": [
              "(10000, 32, 32, 3)"
            ]
          },
          "metadata": {},
          "execution_count": 3
        }
      ]
    },
    {
      "cell_type": "code",
      "metadata": {
        "colab": {
          "base_uri": "https://localhost:8080/"
        },
        "id": "nqvCt4HjeKza",
        "outputId": "d6bba24b-8f38-439e-b0ac-18b0e6e82ff5"
      },
      "source": [
        "y_train.shape"
      ],
      "execution_count": 4,
      "outputs": [
        {
          "output_type": "execute_result",
          "data": {
            "text/plain": [
              "(50000, 1)"
            ]
          },
          "metadata": {},
          "execution_count": 4
        }
      ]
    },
    {
      "cell_type": "code",
      "metadata": {
        "colab": {
          "base_uri": "https://localhost:8080/"
        },
        "id": "6-p0SufNeRs-",
        "outputId": "7b51e53d-27a3-49bd-cf9d-f082d23c8892"
      },
      "source": [
        "# convert 2D Array into 1D Array\n",
        "y_train = y_train.reshape(-1,)\n",
        "y_train[:5]"
      ],
      "execution_count": 5,
      "outputs": [
        {
          "output_type": "execute_result",
          "data": {
            "text/plain": [
              "array([6, 9, 9, 4, 1], dtype=uint8)"
            ]
          },
          "metadata": {},
          "execution_count": 5
        }
      ]
    },
    {
      "cell_type": "code",
      "metadata": {
        "id": "BOe9TF_oeWlx"
      },
      "source": [
        "y_test = y_test.reshape(-1,)"
      ],
      "execution_count": 6,
      "outputs": []
    },
    {
      "cell_type": "code",
      "metadata": {
        "id": "R0eUTVBieZrM"
      },
      "source": [
        "classes = [\"airplane\",\"automobile\",\"bird\",\"cat\",\"deer\",\"dog\",\"frog\",\"horse\",\"ship\",\"truck\"]"
      ],
      "execution_count": 7,
      "outputs": []
    },
    {
      "cell_type": "code",
      "metadata": {
        "id": "M58VQCvieaup"
      },
      "source": [
        "def plot_sample(X, y, index):\n",
        "    plt.figure(figsize = (15,2))\n",
        "    plt.imshow(X[index])\n",
        "    plt.xlabel(classes[y[index]])"
      ],
      "execution_count": 8,
      "outputs": []
    },
    {
      "cell_type": "code",
      "metadata": {
        "colab": {
          "base_uri": "https://localhost:8080/",
          "height": 173
        },
        "id": "X_H47dgtec5O",
        "outputId": "806a3d93-747b-468a-a4c3-a36eb29d31ed"
      },
      "source": [
        "plot_sample(X_train, y_train, 0)"
      ],
      "execution_count": 9,
      "outputs": [
        {
          "output_type": "display_data",
          "data": {
            "image/png": "[encoded data removed]",
            "text/plain": [
              "<Figure size 1080x144 with 1 Axes>"
            ]
          },
          "metadata": {
            "needs_background": "light"
          }
        }
      ]
    },
    {
      "cell_type": "code",
      "metadata": {
        "colab": {
          "base_uri": "https://localhost:8080/",
          "height": 173
        },
        "id": "CB5l8OmZee3C",
        "outputId": "60addca2-5d09-4c39-c58d-a0d3ce64fc42"
      },
      "source": [
        "plot_sample(X_train, y_train, 1)"
      ],
      "execution_count": 10,
      "outputs": [
        {
          "output_type": "display_data",
          "data": {
            "image/png": "[encoded data removed]",
            "text/plain": [
              "<Figure size 1080x144 with 1 Axes>"
            ]
          },
          "metadata": {
            "needs_background": "light"
          }
        }
      ]
    },
    {
      "cell_type": "code",
      "metadata": {
        "id": "he-rh-fYef43"
      },
      "source": [
        "# Normalize image from 0 to 1\n",
        "# color into 0 ~ 1 ( r,g,b )\n",
        "X_train = X_train / 255.0\n",
        "X_test = X_test   / 255.0"
      ],
      "execution_count": 11,
      "outputs": []
    },
    {
      "cell_type": "code",
      "metadata": {
        "colab": {
          "base_uri": "https://localhost:8080/"
        },
        "id": "-E49RwjQeq7h",
        "outputId": "a94416aa-66b6-45d4-b401-14a62fb8e96c"
      },
      "source": [
        "# build ANN -- takes a long time\n",
        "ann = models.Sequential([\n",
        "        layers.Flatten(input_shape=(32,32,3)),\n",
        "        layers.Dense(3000,activation='relu'),\n",
        "        layers.Dense(1000,activation='relu'),\n",
        "        # multiple classification ---> soft max\n",
        "        layers.Dense(10,activation='softmax')\n",
        "])\n",
        "ann.compile(optimizer = 'SGD',\n",
        "            # 만약, y가 one hot encoded 되어서\n",
        "            # 1차원 벡터 형태였다면 sparse X\n",
        "            # 그런데 만일 y가 9,8 등의 하나의 value라면\n",
        "            # sparse를 붙여야 한다 \n",
        "            loss = 'sparse_categorical_crossentropy',\n",
        "            metrics = ['accuracy'])\n",
        "ann.fit(X_train,y_train,epochs=5)"
      ],
      "execution_count": 14,
      "outputs": [
        {
          "output_type": "stream",
          "name": "stdout",
          "text": [
            "Epoch 1/5\n",
            "1563/1563 [==============================] - 97s 61ms/step - loss: 1.8136 - accuracy: 0.3545\n",
            "Epoch 2/5\n",
            "1563/1563 [==============================] - 98s 63ms/step - loss: 1.6251 - accuracy: 0.4279\n",
            "Epoch 3/5\n",
            "1563/1563 [==============================] - 96s 62ms/step - loss: 1.5445 - accuracy: 0.4554\n",
            "Epoch 4/5\n",
            "1563/1563 [==============================] - 96s 61ms/step - loss: 1.4852 - accuracy: 0.4795\n",
            "Epoch 5/5\n",
            "1563/1563 [==============================] - 96s 62ms/step - loss: 1.4347 - accuracy: 0.4932\n"
          ]
        },
        {
          "output_type": "execute_result",
          "data": {
            "text/plain": [
              "<keras.callbacks.History at 0x7fe423ba79d0>"
            ]
          },
          "metadata": {},
          "execution_count": 14
        }
      ]
    },
    {
      "cell_type": "code",
      "metadata": {
        "colab": {
          "base_uri": "https://localhost:8080/"
        },
        "id": "6RO3G9rSfyzB",
        "outputId": "8ac49926-ce9b-4b13-9a05-149135e42cea"
      },
      "source": [
        "ann.evaluate(X_test,y_test)"
      ],
      "execution_count": 16,
      "outputs": [
        {
          "output_type": "stream",
          "name": "stdout",
          "text": [
            "313/313 [==============================] - 8s 24ms/step - loss: 1.5961 - accuracy: 0.4456\n"
          ]
        },
        {
          "output_type": "execute_result",
          "data": {
            "text/plain": [
              "[1.5960766077041626, 0.4456000030040741]"
            ]
          },
          "metadata": {},
          "execution_count": 16
        }
      ]
    },
    {
      "cell_type": "code",
      "metadata": {
        "colab": {
          "base_uri": "https://localhost:8080/"
        },
        "id": "5g8u1PXofIc8",
        "outputId": "c745b1d0-9e8a-48f9-ea47-13918240f339"
      },
      "source": [
        "# accuracy 49% at 5 epochs\n",
        "from sklearn.metrics import confusion_matrix , classification_report\n",
        "import numpy as np\n",
        "y_pred = ann.predict(X_test)\n",
        "# 왜 np.argmax ? return 형태가 확률 의 1차원 vector 이기 때문에\n",
        "# 그 중에서 가장 높은 확률을 지니는 idx 정보를 return 받는다 \n",
        "y_pred_classes = [np.argmax(element) for element in y_pred]\n",
        "\n",
        "print(\"Classification Report: \\n\", classification_report(y_test, y_pred_classes))"
      ],
      "execution_count": 15,
      "outputs": [
        {
          "output_type": "stream",
          "name": "stdout",
          "text": [
            "Classification Report: \n",
            "               precision    recall  f1-score   support\n",
            "\n",
            "           0       0.47      0.62      0.53      1000\n",
            "           1       0.73      0.42      0.53      1000\n",
            "           2       0.32      0.44      0.37      1000\n",
            "           3       0.43      0.09      0.15      1000\n",
            "           4       0.33      0.45      0.38      1000\n",
            "           5       0.37      0.42      0.39      1000\n",
            "           6       0.35      0.76      0.48      1000\n",
            "           7       0.68      0.33      0.44      1000\n",
            "           8       0.66      0.54      0.59      1000\n",
            "           9       0.66      0.41      0.51      1000\n",
            "\n",
            "    accuracy                           0.45     10000\n",
            "   macro avg       0.50      0.45      0.44     10000\n",
            "weighted avg       0.50      0.45      0.44     10000\n",
            "\n"
          ]
        }
      ]
    },
    {
      "cell_type": "code",
      "metadata": {
        "id": "uAbIUY5pfGUM"
      },
      "source": [
        "# CNN\n",
        "# 1.Convolutional : detecting features \n",
        "# 2.Relu\n",
        "# 3.Poolilng\n",
        "# 4.NetWork"
      ],
      "execution_count": null,
      "outputs": []
    },
    {
      "cell_type": "code",
      "metadata": {
        "id": "UZqVyD7-gNVJ"
      },
      "source": [
        "cnn = models.Sequential([                         \n",
        "      # cnn ---\n",
        "      # filter 개수와, filter의 크기\n",
        "      layers.Conv2D(\n",
        "          filters = 32,\n",
        "          activation = 'relu',\n",
        "          kernel_size = (3,3),\n",
        "          # info of one image \n",
        "          input_shape = (32,32,3)),\n",
        "      layers.MaxPooling2D((2,2)),\n",
        "\n",
        "      # multiple layer를 만들 수도 있다.\n",
        "      layers.Conv2D(\n",
        "          filters = 64,\n",
        "          activation = 'relu',\n",
        "          kernel_size = (3,3),\n",
        "          # info of one image \n",
        "          input_shape = (32,32,3)),\n",
        "      layers.MaxPooling2D((2,2)),\n",
        "                         \n",
        "      # dense network ---\n",
        "      # layers.Flatten(input_shape=(32,32,3)),\n",
        "      layers.Flatten(),\n",
        "      layers.Dense(64,activation='relu'),\n",
        "      # sigmoid는 normalize probability \n",
        "      # ex) 1:0.45, 2:0.67\n",
        "      # 즉, 합이 항상 1은 아니다\n",
        "      # softmax는 전체 sum 중의 확률 개념\n",
        "      # ex) 0.67 / 0.45 + 0.67\n",
        "      # 합이 항상 1\n",
        "      layers.Dense(10,activation='softmax')\n",
        "])"
      ],
      "execution_count": 20,
      "outputs": []
    },
    {
      "cell_type": "code",
      "metadata": {
        "id": "VakDl-eWhyZX"
      },
      "source": [
        "cnn.compile(optimizer='adam',\n",
        "              loss='sparse_categorical_crossentropy',\n",
        "              metrics=['accuracy'])"
      ],
      "execution_count": 21,
      "outputs": []
    },
    {
      "cell_type": "code",
      "metadata": {
        "colab": {
          "base_uri": "https://localhost:8080/"
        },
        "id": "MBL3wNVzh1l4",
        "outputId": "e6f4df5e-fff8-48e1-e2a9-6c08b9166bb0"
      },
      "source": [
        "# take long long time\n",
        "cnn.fit(X_train, y_train, epochs=10)"
      ],
      "execution_count": 22,
      "outputs": [
        {
          "output_type": "stream",
          "name": "stdout",
          "text": [
            "Epoch 1/10\n",
            "1563/1563 [==============================] - 61s 38ms/step - loss: 1.4756 - accuracy: 0.4699\n",
            "Epoch 2/10\n",
            "1563/1563 [==============================] - 60s 38ms/step - loss: 1.1319 - accuracy: 0.6054\n",
            "Epoch 3/10\n",
            "1563/1563 [==============================] - 60s 38ms/step - loss: 1.0049 - accuracy: 0.6520\n",
            "Epoch 4/10\n",
            "1563/1563 [==============================] - 60s 38ms/step - loss: 0.9269 - accuracy: 0.6804\n",
            "Epoch 5/10\n",
            "1563/1563 [==============================] - 59s 38ms/step - loss: 0.8638 - accuracy: 0.7020\n",
            "Epoch 6/10\n",
            "1563/1563 [==============================] - 59s 38ms/step - loss: 0.8114 - accuracy: 0.7187\n",
            "Epoch 7/10\n",
            "1563/1563 [==============================] - 60s 38ms/step - loss: 0.7671 - accuracy: 0.7345\n",
            "Epoch 8/10\n",
            "1563/1563 [==============================] - 60s 39ms/step - loss: 0.7237 - accuracy: 0.7484\n",
            "Epoch 9/10\n",
            "1563/1563 [==============================] - 60s 39ms/step - loss: 0.6852 - accuracy: 0.7630\n",
            "Epoch 10/10\n",
            "1563/1563 [==============================] - 60s 39ms/step - loss: 0.6541 - accuracy: 0.7718\n"
          ]
        },
        {
          "output_type": "execute_result",
          "data": {
            "text/plain": [
              "<keras.callbacks.History at 0x7fe41c952bd0>"
            ]
          },
          "metadata": {},
          "execution_count": 22
        }
      ]
    },
    {
      "cell_type": "code",
      "metadata": {
        "colab": {
          "base_uri": "https://localhost:8080/"
        },
        "id": "brYVuo0-iRbI",
        "outputId": "ab065eef-e769-4f7f-cb5e-eb85c5ac05e3"
      },
      "source": [
        "cnn.evaluate(X_test,y_test)"
      ],
      "execution_count": 23,
      "outputs": [
        {
          "output_type": "stream",
          "name": "stdout",
          "text": [
            "313/313 [==============================] - 4s 12ms/step - loss: 0.8870 - accuracy: 0.7056\n"
          ]
        },
        {
          "output_type": "execute_result",
          "data": {
            "text/plain": [
              "[0.8870255947113037, 0.7056000232696533]"
            ]
          },
          "metadata": {},
          "execution_count": 23
        }
      ]
    },
    {
      "cell_type": "code",
      "metadata": {
        "colab": {
          "base_uri": "https://localhost:8080/",
          "height": 173
        },
        "id": "9IWppcZBiUHK",
        "outputId": "00932919-94b2-4eb8-d051-26641a6061bd"
      },
      "source": [
        "# convert into 1 dimension\n",
        "y_test = y_test.reshape(-1,)\n",
        "y_test[:5]"
      ],
      "execution_count": 24,
      "outputs": [
        {
          "output_type": "display_data",
          "data": {
            "image/png": "[encoded data removed]",
            "text/plain": [
              "<Figure size 1080x144 with 1 Axes>"
            ]
          },
          "metadata": {
            "needs_background": "light"
          }
        }
      ]
    },
    {
      "cell_type": "code",
      "metadata": {
        "colab": {
          "base_uri": "https://localhost:8080/",
          "height": 173
        },
        "id": "ypC6PzxminVa",
        "outputId": "3d870964-1488-473a-f030-9da8351450f8"
      },
      "source": [
        "plot_sample(X_test,y_test,1)"
      ],
      "execution_count": 25,
      "outputs": [
        {
          "output_type": "display_data",
          "data": {
            "image/png": "[encoded data removed]",
            "text/plain": [
              "<Figure size 1080x144 with 1 Axes>"
            ]
          },
          "metadata": {
            "needs_background": "light"
          }
        }
      ]
    },
    {
      "cell_type": "code",
      "metadata": {
        "id": "F5E-r3Nwioc1"
      },
      "source": [
        "y_pred = cnn.predict(X_test)"
      ],
      "execution_count": 28,
      "outputs": []
    },
    {
      "cell_type": "code",
      "metadata": {
        "id": "23fhfLWtizyB"
      },
      "source": [
        "y_classes = [np.argmax(elem) for elem in y_pred]"
      ],
      "execution_count": 29,
      "outputs": []
    },
    {
      "cell_type": "code",
      "metadata": {
        "colab": {
          "base_uri": "https://localhost:8080/",
          "height": 173
        },
        "id": "zDFWgQXFi4vs",
        "outputId": "ea45c03d-9d6a-43de-d7a3-a31729548edb"
      },
      "source": [
        "plot_sample(X_test,y_test,1)"
      ],
      "execution_count": 31,
      "outputs": [
        {
          "output_type": "display_data",
          "data": {
            "image/png": "[encoded data removed]",
            "text/plain": [
              "<Figure size 1080x144 with 1 Axes>"
            ]
          },
          "metadata": {
            "needs_background": "light"
          }
        }
      ]
    },
    {
      "cell_type": "code",
      "metadata": {
        "id": "EmwJgwlpi9jc"
      },
      "source": [
        "classes"
      ],
      "execution_count": null,
      "outputs": []
    },
    {
      "cell_type": "code",
      "metadata": {
        "colab": {
          "base_uri": "https://localhost:8080/",
          "height": 35
        },
        "id": "tIKEmlWHjAg0",
        "outputId": "a32eb93f-881b-4517-eda7-06e7e7effd32"
      },
      "source": [
        "classes[y_classes[1]] "
      ],
      "execution_count": 32,
      "outputs": [
        {
          "output_type": "execute_result",
          "data": {
            "application/vnd.google.colaboratory.intrinsic+json": {
              "type": "string"
            },
            "text/plain": [
              "'ship'"
            ]
          },
          "metadata": {},
          "execution_count": 32
        }
      ]
    }
  ]
}
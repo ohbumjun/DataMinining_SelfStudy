{
  "nbformat": 4,
  "nbformat_minor": 0,
  "metadata": {
    "colab": {
      "name": "DL_7_ANN.ipynb",
      "provenance": [],
      "collapsed_sections": []
    },
    "kernelspec": {
      "name": "python3",
      "display_name": "Python 3"
    },
    "language_info": {
      "name": "python"
    }
  },
  "cells": [
    {
      "cell_type": "code",
      "metadata": {
        "id": "GUujMARr9zi5"
      },
      "source": [
        "import pandas as pd\n",
        "import numpy as np\n",
        "import matplotlib\n",
        "from tensorflow import keras\n",
        "import os\n",
        "from sklearn.cluster import KMeans\n",
        "from matplotlib import pyplot as plt \n",
        "from sklearn.preprocessing import MinMaxScaler \n",
        "\n",
        "# read data set\n",
        "base_src = './drive/MyDrive/machine_learning/datasets/codebasics'\n",
        "friend_src = base_src + '/customer.csv'\n"
      ],
      "execution_count": 47,
      "outputs": []
    },
    {
      "cell_type": "code",
      "metadata": {
        "colab": {
          "base_uri": "https://localhost:8080/",
          "height": 306
        },
        "id": "bGUyf7dS-c_9",
        "outputId": "d9e629d6-565e-4dc7-fd18-2ab179b3ec82"
      },
      "source": [
        "df = pd.read_csv(friend_src)\n",
        "df.head()"
      ],
      "execution_count": 48,
      "outputs": [
        {
          "output_type": "execute_result",
          "data": {
            "text/html": [
              "<div>\n",
              "<style scoped>\n",
              "    .dataframe tbody tr th:only-of-type {\n",
              "        vertical-align: middle;\n",
              "    }\n",
              "\n",
              "    .dataframe tbody tr th {\n",
              "        vertical-align: top;\n",
              "    }\n",
              "\n",
              "    .dataframe thead th {\n",
              "        text-align: right;\n",
              "    }\n",
              "</style>\n",
              "<table border=\"1\" class=\"dataframe\">\n",
              "  <thead>\n",
              "    <tr style=\"text-align: right;\">\n",
              "      <th></th>\n",
              "      <th>customerID</th>\n",
              "      <th>gender</th>\n",
              "      <th>SeniorCitizen</th>\n",
              "      <th>Partner</th>\n",
              "      <th>Dependents</th>\n",
              "      <th>tenure</th>\n",
              "      <th>PhoneService</th>\n",
              "      <th>MultipleLines</th>\n",
              "      <th>InternetService</th>\n",
              "      <th>OnlineSecurity</th>\n",
              "      <th>OnlineBackup</th>\n",
              "      <th>DeviceProtection</th>\n",
              "      <th>TechSupport</th>\n",
              "      <th>StreamingTV</th>\n",
              "      <th>StreamingMovies</th>\n",
              "      <th>Contract</th>\n",
              "      <th>PaperlessBilling</th>\n",
              "      <th>PaymentMethod</th>\n",
              "      <th>MonthlyCharges</th>\n",
              "      <th>TotalCharges</th>\n",
              "      <th>Churn</th>\n",
              "    </tr>\n",
              "  </thead>\n",
              "  <tbody>\n",
              "    <tr>\n",
              "      <th>0</th>\n",
              "      <td>7590-VHVEG</td>\n",
              "      <td>Female</td>\n",
              "      <td>0</td>\n",
              "      <td>Yes</td>\n",
              "      <td>No</td>\n",
              "      <td>1</td>\n",
              "      <td>No</td>\n",
              "      <td>No phone service</td>\n",
              "      <td>DSL</td>\n",
              "      <td>No</td>\n",
              "      <td>Yes</td>\n",
              "      <td>No</td>\n",
              "      <td>No</td>\n",
              "      <td>No</td>\n",
              "      <td>No</td>\n",
              "      <td>Month-to-month</td>\n",
              "      <td>Yes</td>\n",
              "      <td>Electronic check</td>\n",
              "      <td>29.85</td>\n",
              "      <td>29.85</td>\n",
              "      <td>No</td>\n",
              "    </tr>\n",
              "    <tr>\n",
              "      <th>1</th>\n",
              "      <td>5575-GNVDE</td>\n",
              "      <td>Male</td>\n",
              "      <td>0</td>\n",
              "      <td>No</td>\n",
              "      <td>No</td>\n",
              "      <td>34</td>\n",
              "      <td>Yes</td>\n",
              "      <td>No</td>\n",
              "      <td>DSL</td>\n",
              "      <td>Yes</td>\n",
              "      <td>No</td>\n",
              "      <td>Yes</td>\n",
              "      <td>No</td>\n",
              "      <td>No</td>\n",
              "      <td>No</td>\n",
              "      <td>One year</td>\n",
              "      <td>No</td>\n",
              "      <td>Mailed check</td>\n",
              "      <td>56.95</td>\n",
              "      <td>1889.5</td>\n",
              "      <td>No</td>\n",
              "    </tr>\n",
              "    <tr>\n",
              "      <th>2</th>\n",
              "      <td>3668-QPYBK</td>\n",
              "      <td>Male</td>\n",
              "      <td>0</td>\n",
              "      <td>No</td>\n",
              "      <td>No</td>\n",
              "      <td>2</td>\n",
              "      <td>Yes</td>\n",
              "      <td>No</td>\n",
              "      <td>DSL</td>\n",
              "      <td>Yes</td>\n",
              "      <td>Yes</td>\n",
              "      <td>No</td>\n",
              "      <td>No</td>\n",
              "      <td>No</td>\n",
              "      <td>No</td>\n",
              "      <td>Month-to-month</td>\n",
              "      <td>Yes</td>\n",
              "      <td>Mailed check</td>\n",
              "      <td>53.85</td>\n",
              "      <td>108.15</td>\n",
              "      <td>Yes</td>\n",
              "    </tr>\n",
              "    <tr>\n",
              "      <th>3</th>\n",
              "      <td>7795-CFOCW</td>\n",
              "      <td>Male</td>\n",
              "      <td>0</td>\n",
              "      <td>No</td>\n",
              "      <td>No</td>\n",
              "      <td>45</td>\n",
              "      <td>No</td>\n",
              "      <td>No phone service</td>\n",
              "      <td>DSL</td>\n",
              "      <td>Yes</td>\n",
              "      <td>No</td>\n",
              "      <td>Yes</td>\n",
              "      <td>Yes</td>\n",
              "      <td>No</td>\n",
              "      <td>No</td>\n",
              "      <td>One year</td>\n",
              "      <td>No</td>\n",
              "      <td>Bank transfer (automatic)</td>\n",
              "      <td>42.30</td>\n",
              "      <td>1840.75</td>\n",
              "      <td>No</td>\n",
              "    </tr>\n",
              "    <tr>\n",
              "      <th>4</th>\n",
              "      <td>9237-HQITU</td>\n",
              "      <td>Female</td>\n",
              "      <td>0</td>\n",
              "      <td>No</td>\n",
              "      <td>No</td>\n",
              "      <td>2</td>\n",
              "      <td>Yes</td>\n",
              "      <td>No</td>\n",
              "      <td>Fiber optic</td>\n",
              "      <td>No</td>\n",
              "      <td>No</td>\n",
              "      <td>No</td>\n",
              "      <td>No</td>\n",
              "      <td>No</td>\n",
              "      <td>No</td>\n",
              "      <td>Month-to-month</td>\n",
              "      <td>Yes</td>\n",
              "      <td>Electronic check</td>\n",
              "      <td>70.70</td>\n",
              "      <td>151.65</td>\n",
              "      <td>Yes</td>\n",
              "    </tr>\n",
              "  </tbody>\n",
              "</table>\n",
              "</div>"
            ],
            "text/plain": [
              "   customerID  gender  SeniorCitizen  ... MonthlyCharges TotalCharges  Churn\n",
              "0  7590-VHVEG  Female              0  ...          29.85        29.85     No\n",
              "1  5575-GNVDE    Male              0  ...          56.95       1889.5     No\n",
              "2  3668-QPYBK    Male              0  ...          53.85       108.15    Yes\n",
              "3  7795-CFOCW    Male              0  ...          42.30      1840.75     No\n",
              "4  9237-HQITU  Female              0  ...          70.70       151.65    Yes\n",
              "\n",
              "[5 rows x 21 columns]"
            ]
          },
          "metadata": {},
          "execution_count": 48
        }
      ]
    },
    {
      "cell_type": "code",
      "metadata": {
        "id": "JRbBoaU5-rSA"
      },
      "source": [
        "# customer Id drop\n",
        "df.drop('customerID',axis='columns',inplace=True)"
      ],
      "execution_count": 49,
      "outputs": []
    },
    {
      "cell_type": "code",
      "metadata": {
        "colab": {
          "base_uri": "https://localhost:8080/"
        },
        "id": "ozjPBIEj-2VD",
        "outputId": "a697a96f-7189-4f11-d132-3ff912d4ebcc"
      },
      "source": [
        "df.dtypes"
      ],
      "execution_count": 50,
      "outputs": [
        {
          "output_type": "execute_result",
          "data": {
            "text/plain": [
              "gender               object\n",
              "SeniorCitizen         int64\n",
              "Partner              object\n",
              "Dependents           object\n",
              "tenure                int64\n",
              "PhoneService         object\n",
              "MultipleLines        object\n",
              "InternetService      object\n",
              "OnlineSecurity       object\n",
              "OnlineBackup         object\n",
              "DeviceProtection     object\n",
              "TechSupport          object\n",
              "StreamingTV          object\n",
              "StreamingMovies      object\n",
              "Contract             object\n",
              "PaperlessBilling     object\n",
              "PaymentMethod        object\n",
              "MonthlyCharges      float64\n",
              "TotalCharges         object\n",
              "Churn                object\n",
              "dtype: object"
            ]
          },
          "metadata": {},
          "execution_count": 50
        }
      ]
    },
    {
      "cell_type": "code",
      "metadata": {
        "colab": {
          "base_uri": "https://localhost:8080/"
        },
        "id": "QeA33nSK-387",
        "outputId": "84a0ba31-70c3-4265-e480-dd70721da72a"
      },
      "source": [
        "df.TotalCharges.values # convert into number !"
      ],
      "execution_count": 51,
      "outputs": [
        {
          "output_type": "execute_result",
          "data": {
            "text/plain": [
              "array(['29.85', '1889.5', '108.15', ..., '346.45', '306.6', '6844.5'],\n",
              "      dtype=object)"
            ]
          },
          "metadata": {},
          "execution_count": 51
        }
      ]
    },
    {
      "cell_type": "code",
      "metadata": {
        "id": "XYlVVEH2-8AX"
      },
      "source": [
        "# pd.to_numeric(df.TotalCharges) : error"
      ],
      "execution_count": 52,
      "outputs": []
    },
    {
      "cell_type": "code",
      "metadata": {
        "colab": {
          "base_uri": "https://localhost:8080/"
        },
        "id": "1kh5rm82_Pdn",
        "outputId": "671d3c6e-6687-48e3-e08c-0434fc349c80"
      },
      "source": [
        "# ignore space \n",
        "# get idx that does not have space \n",
        "pd.to_numeric(df.TotalCharges,errors='coerce').isnull()"
      ],
      "execution_count": 53,
      "outputs": [
        {
          "output_type": "execute_result",
          "data": {
            "text/plain": [
              "0       False\n",
              "1       False\n",
              "2       False\n",
              "3       False\n",
              "4       False\n",
              "        ...  \n",
              "7038    False\n",
              "7039    False\n",
              "7040    False\n",
              "7041    False\n",
              "7042    False\n",
              "Name: TotalCharges, Length: 7043, dtype: bool"
            ]
          },
          "metadata": {},
          "execution_count": 53
        }
      ]
    },
    {
      "cell_type": "code",
      "metadata": {
        "colab": {
          "base_uri": "https://localhost:8080/"
        },
        "id": "2hYRhq9D_gf-",
        "outputId": "00d0422e-36bf-4f1a-d837-8dd9abe34baf"
      },
      "source": [
        "pd.to_numeric(df.TotalCharges,errors='coerce').isnull()"
      ],
      "execution_count": 54,
      "outputs": [
        {
          "output_type": "execute_result",
          "data": {
            "text/plain": [
              "0       False\n",
              "1       False\n",
              "2       False\n",
              "3       False\n",
              "4       False\n",
              "        ...  \n",
              "7038    False\n",
              "7039    False\n",
              "7040    False\n",
              "7041    False\n",
              "7042    False\n",
              "Name: TotalCharges, Length: 7043, dtype: bool"
            ]
          },
          "metadata": {},
          "execution_count": 54
        }
      ]
    },
    {
      "cell_type": "code",
      "metadata": {
        "colab": {
          "base_uri": "https://localhost:8080/",
          "height": 557
        },
        "id": "RWpSNFi8_ZKU",
        "outputId": "c50b7dce-8450-42d0-fde3-8fd58508ac7c"
      },
      "source": [
        "df[pd.to_numeric(df.TotalCharges,errors='coerce').isnull()]"
      ],
      "execution_count": 55,
      "outputs": [
        {
          "output_type": "execute_result",
          "data": {
            "text/html": [
              "<div>\n",
              "<style scoped>\n",
              "    .dataframe tbody tr th:only-of-type {\n",
              "        vertical-align: middle;\n",
              "    }\n",
              "\n",
              "    .dataframe tbody tr th {\n",
              "        vertical-align: top;\n",
              "    }\n",
              "\n",
              "    .dataframe thead th {\n",
              "        text-align: right;\n",
              "    }\n",
              "</style>\n",
              "<table border=\"1\" class=\"dataframe\">\n",
              "  <thead>\n",
              "    <tr style=\"text-align: right;\">\n",
              "      <th></th>\n",
              "      <th>gender</th>\n",
              "      <th>SeniorCitizen</th>\n",
              "      <th>Partner</th>\n",
              "      <th>Dependents</th>\n",
              "      <th>tenure</th>\n",
              "      <th>PhoneService</th>\n",
              "      <th>MultipleLines</th>\n",
              "      <th>InternetService</th>\n",
              "      <th>OnlineSecurity</th>\n",
              "      <th>OnlineBackup</th>\n",
              "      <th>DeviceProtection</th>\n",
              "      <th>TechSupport</th>\n",
              "      <th>StreamingTV</th>\n",
              "      <th>StreamingMovies</th>\n",
              "      <th>Contract</th>\n",
              "      <th>PaperlessBilling</th>\n",
              "      <th>PaymentMethod</th>\n",
              "      <th>MonthlyCharges</th>\n",
              "      <th>TotalCharges</th>\n",
              "      <th>Churn</th>\n",
              "    </tr>\n",
              "  </thead>\n",
              "  <tbody>\n",
              "    <tr>\n",
              "      <th>488</th>\n",
              "      <td>Female</td>\n",
              "      <td>0</td>\n",
              "      <td>Yes</td>\n",
              "      <td>Yes</td>\n",
              "      <td>0</td>\n",
              "      <td>No</td>\n",
              "      <td>No phone service</td>\n",
              "      <td>DSL</td>\n",
              "      <td>Yes</td>\n",
              "      <td>No</td>\n",
              "      <td>Yes</td>\n",
              "      <td>Yes</td>\n",
              "      <td>Yes</td>\n",
              "      <td>No</td>\n",
              "      <td>Two year</td>\n",
              "      <td>Yes</td>\n",
              "      <td>Bank transfer (automatic)</td>\n",
              "      <td>52.55</td>\n",
              "      <td></td>\n",
              "      <td>No</td>\n",
              "    </tr>\n",
              "    <tr>\n",
              "      <th>753</th>\n",
              "      <td>Male</td>\n",
              "      <td>0</td>\n",
              "      <td>No</td>\n",
              "      <td>Yes</td>\n",
              "      <td>0</td>\n",
              "      <td>Yes</td>\n",
              "      <td>No</td>\n",
              "      <td>No</td>\n",
              "      <td>No internet service</td>\n",
              "      <td>No internet service</td>\n",
              "      <td>No internet service</td>\n",
              "      <td>No internet service</td>\n",
              "      <td>No internet service</td>\n",
              "      <td>No internet service</td>\n",
              "      <td>Two year</td>\n",
              "      <td>No</td>\n",
              "      <td>Mailed check</td>\n",
              "      <td>20.25</td>\n",
              "      <td></td>\n",
              "      <td>No</td>\n",
              "    </tr>\n",
              "    <tr>\n",
              "      <th>936</th>\n",
              "      <td>Female</td>\n",
              "      <td>0</td>\n",
              "      <td>Yes</td>\n",
              "      <td>Yes</td>\n",
              "      <td>0</td>\n",
              "      <td>Yes</td>\n",
              "      <td>No</td>\n",
              "      <td>DSL</td>\n",
              "      <td>Yes</td>\n",
              "      <td>Yes</td>\n",
              "      <td>Yes</td>\n",
              "      <td>No</td>\n",
              "      <td>Yes</td>\n",
              "      <td>Yes</td>\n",
              "      <td>Two year</td>\n",
              "      <td>No</td>\n",
              "      <td>Mailed check</td>\n",
              "      <td>80.85</td>\n",
              "      <td></td>\n",
              "      <td>No</td>\n",
              "    </tr>\n",
              "    <tr>\n",
              "      <th>1082</th>\n",
              "      <td>Male</td>\n",
              "      <td>0</td>\n",
              "      <td>Yes</td>\n",
              "      <td>Yes</td>\n",
              "      <td>0</td>\n",
              "      <td>Yes</td>\n",
              "      <td>Yes</td>\n",
              "      <td>No</td>\n",
              "      <td>No internet service</td>\n",
              "      <td>No internet service</td>\n",
              "      <td>No internet service</td>\n",
              "      <td>No internet service</td>\n",
              "      <td>No internet service</td>\n",
              "      <td>No internet service</td>\n",
              "      <td>Two year</td>\n",
              "      <td>No</td>\n",
              "      <td>Mailed check</td>\n",
              "      <td>25.75</td>\n",
              "      <td></td>\n",
              "      <td>No</td>\n",
              "    </tr>\n",
              "    <tr>\n",
              "      <th>1340</th>\n",
              "      <td>Female</td>\n",
              "      <td>0</td>\n",
              "      <td>Yes</td>\n",
              "      <td>Yes</td>\n",
              "      <td>0</td>\n",
              "      <td>No</td>\n",
              "      <td>No phone service</td>\n",
              "      <td>DSL</td>\n",
              "      <td>Yes</td>\n",
              "      <td>Yes</td>\n",
              "      <td>Yes</td>\n",
              "      <td>Yes</td>\n",
              "      <td>Yes</td>\n",
              "      <td>No</td>\n",
              "      <td>Two year</td>\n",
              "      <td>No</td>\n",
              "      <td>Credit card (automatic)</td>\n",
              "      <td>56.05</td>\n",
              "      <td></td>\n",
              "      <td>No</td>\n",
              "    </tr>\n",
              "    <tr>\n",
              "      <th>3331</th>\n",
              "      <td>Male</td>\n",
              "      <td>0</td>\n",
              "      <td>Yes</td>\n",
              "      <td>Yes</td>\n",
              "      <td>0</td>\n",
              "      <td>Yes</td>\n",
              "      <td>No</td>\n",
              "      <td>No</td>\n",
              "      <td>No internet service</td>\n",
              "      <td>No internet service</td>\n",
              "      <td>No internet service</td>\n",
              "      <td>No internet service</td>\n",
              "      <td>No internet service</td>\n",
              "      <td>No internet service</td>\n",
              "      <td>Two year</td>\n",
              "      <td>No</td>\n",
              "      <td>Mailed check</td>\n",
              "      <td>19.85</td>\n",
              "      <td></td>\n",
              "      <td>No</td>\n",
              "    </tr>\n",
              "    <tr>\n",
              "      <th>3826</th>\n",
              "      <td>Male</td>\n",
              "      <td>0</td>\n",
              "      <td>Yes</td>\n",
              "      <td>Yes</td>\n",
              "      <td>0</td>\n",
              "      <td>Yes</td>\n",
              "      <td>Yes</td>\n",
              "      <td>No</td>\n",
              "      <td>No internet service</td>\n",
              "      <td>No internet service</td>\n",
              "      <td>No internet service</td>\n",
              "      <td>No internet service</td>\n",
              "      <td>No internet service</td>\n",
              "      <td>No internet service</td>\n",
              "      <td>Two year</td>\n",
              "      <td>No</td>\n",
              "      <td>Mailed check</td>\n",
              "      <td>25.35</td>\n",
              "      <td></td>\n",
              "      <td>No</td>\n",
              "    </tr>\n",
              "    <tr>\n",
              "      <th>4380</th>\n",
              "      <td>Female</td>\n",
              "      <td>0</td>\n",
              "      <td>Yes</td>\n",
              "      <td>Yes</td>\n",
              "      <td>0</td>\n",
              "      <td>Yes</td>\n",
              "      <td>No</td>\n",
              "      <td>No</td>\n",
              "      <td>No internet service</td>\n",
              "      <td>No internet service</td>\n",
              "      <td>No internet service</td>\n",
              "      <td>No internet service</td>\n",
              "      <td>No internet service</td>\n",
              "      <td>No internet service</td>\n",
              "      <td>Two year</td>\n",
              "      <td>No</td>\n",
              "      <td>Mailed check</td>\n",
              "      <td>20.00</td>\n",
              "      <td></td>\n",
              "      <td>No</td>\n",
              "    </tr>\n",
              "    <tr>\n",
              "      <th>5218</th>\n",
              "      <td>Male</td>\n",
              "      <td>0</td>\n",
              "      <td>Yes</td>\n",
              "      <td>Yes</td>\n",
              "      <td>0</td>\n",
              "      <td>Yes</td>\n",
              "      <td>No</td>\n",
              "      <td>No</td>\n",
              "      <td>No internet service</td>\n",
              "      <td>No internet service</td>\n",
              "      <td>No internet service</td>\n",
              "      <td>No internet service</td>\n",
              "      <td>No internet service</td>\n",
              "      <td>No internet service</td>\n",
              "      <td>One year</td>\n",
              "      <td>Yes</td>\n",
              "      <td>Mailed check</td>\n",
              "      <td>19.70</td>\n",
              "      <td></td>\n",
              "      <td>No</td>\n",
              "    </tr>\n",
              "    <tr>\n",
              "      <th>6670</th>\n",
              "      <td>Female</td>\n",
              "      <td>0</td>\n",
              "      <td>Yes</td>\n",
              "      <td>Yes</td>\n",
              "      <td>0</td>\n",
              "      <td>Yes</td>\n",
              "      <td>Yes</td>\n",
              "      <td>DSL</td>\n",
              "      <td>No</td>\n",
              "      <td>Yes</td>\n",
              "      <td>Yes</td>\n",
              "      <td>Yes</td>\n",
              "      <td>Yes</td>\n",
              "      <td>No</td>\n",
              "      <td>Two year</td>\n",
              "      <td>No</td>\n",
              "      <td>Mailed check</td>\n",
              "      <td>73.35</td>\n",
              "      <td></td>\n",
              "      <td>No</td>\n",
              "    </tr>\n",
              "    <tr>\n",
              "      <th>6754</th>\n",
              "      <td>Male</td>\n",
              "      <td>0</td>\n",
              "      <td>No</td>\n",
              "      <td>Yes</td>\n",
              "      <td>0</td>\n",
              "      <td>Yes</td>\n",
              "      <td>Yes</td>\n",
              "      <td>DSL</td>\n",
              "      <td>Yes</td>\n",
              "      <td>Yes</td>\n",
              "      <td>No</td>\n",
              "      <td>Yes</td>\n",
              "      <td>No</td>\n",
              "      <td>No</td>\n",
              "      <td>Two year</td>\n",
              "      <td>Yes</td>\n",
              "      <td>Bank transfer (automatic)</td>\n",
              "      <td>61.90</td>\n",
              "      <td></td>\n",
              "      <td>No</td>\n",
              "    </tr>\n",
              "  </tbody>\n",
              "</table>\n",
              "</div>"
            ],
            "text/plain": [
              "      gender  SeniorCitizen Partner  ... MonthlyCharges  TotalCharges Churn\n",
              "488   Female              0     Yes  ...          52.55                  No\n",
              "753     Male              0      No  ...          20.25                  No\n",
              "936   Female              0     Yes  ...          80.85                  No\n",
              "1082    Male              0     Yes  ...          25.75                  No\n",
              "1340  Female              0     Yes  ...          56.05                  No\n",
              "3331    Male              0     Yes  ...          19.85                  No\n",
              "3826    Male              0     Yes  ...          25.35                  No\n",
              "4380  Female              0     Yes  ...          20.00                  No\n",
              "5218    Male              0     Yes  ...          19.70                  No\n",
              "6670  Female              0     Yes  ...          73.35                  No\n",
              "6754    Male              0      No  ...          61.90                  No\n",
              "\n",
              "[11 rows x 20 columns]"
            ]
          },
          "metadata": {},
          "execution_count": 55
        }
      ]
    },
    {
      "cell_type": "code",
      "metadata": {
        "colab": {
          "base_uri": "https://localhost:8080/"
        },
        "id": "O6914VM5_nYJ",
        "outputId": "8e4dd117-f4c6-45fc-dd9d-2b13daec2786"
      },
      "source": [
        "df[pd.to_numeric(df.TotalCharges,errors='coerce').isnull()].shape"
      ],
      "execution_count": 56,
      "outputs": [
        {
          "output_type": "execute_result",
          "data": {
            "text/plain": [
              "(11, 20)"
            ]
          },
          "metadata": {},
          "execution_count": 56
        }
      ]
    },
    {
      "cell_type": "code",
      "metadata": {
        "colab": {
          "base_uri": "https://localhost:8080/"
        },
        "id": "eDsn07XJ_oty",
        "outputId": "736a27da-9025-4341-f01f-d927432fa18d"
      },
      "source": [
        "# drop 11 rows\n",
        "df1 = df[df.TotalCharges != ' ']\n",
        "df1.shape"
      ],
      "execution_count": 57,
      "outputs": [
        {
          "output_type": "execute_result",
          "data": {
            "text/plain": [
              "(7032, 20)"
            ]
          },
          "metadata": {},
          "execution_count": 57
        }
      ]
    },
    {
      "cell_type": "code",
      "metadata": {
        "colab": {
          "base_uri": "https://localhost:8080/"
        },
        "id": "_92rchXE_8bX",
        "outputId": "137171df-951a-45eb-ea80-554471a3406c"
      },
      "source": [
        "df1.dtypes"
      ],
      "execution_count": 58,
      "outputs": [
        {
          "output_type": "execute_result",
          "data": {
            "text/plain": [
              "gender               object\n",
              "SeniorCitizen         int64\n",
              "Partner              object\n",
              "Dependents           object\n",
              "tenure                int64\n",
              "PhoneService         object\n",
              "MultipleLines        object\n",
              "InternetService      object\n",
              "OnlineSecurity       object\n",
              "OnlineBackup         object\n",
              "DeviceProtection     object\n",
              "TechSupport          object\n",
              "StreamingTV          object\n",
              "StreamingMovies      object\n",
              "Contract             object\n",
              "PaperlessBilling     object\n",
              "PaymentMethod        object\n",
              "MonthlyCharges      float64\n",
              "TotalCharges         object\n",
              "Churn                object\n",
              "dtype: object"
            ]
          },
          "metadata": {},
          "execution_count": 58
        }
      ]
    },
    {
      "cell_type": "code",
      "metadata": {
        "colab": {
          "base_uri": "https://localhost:8080/"
        },
        "id": "uBPc1M0pADCF",
        "outputId": "6156cea0-3af6-4d3d-8696-4ab5988b5847"
      },
      "source": [
        "pd.to_numeric(df1.TotalCharges)"
      ],
      "execution_count": 59,
      "outputs": [
        {
          "output_type": "execute_result",
          "data": {
            "text/plain": [
              "0         29.85\n",
              "1       1889.50\n",
              "2        108.15\n",
              "3       1840.75\n",
              "4        151.65\n",
              "         ...   \n",
              "7038    1990.50\n",
              "7039    7362.90\n",
              "7040     346.45\n",
              "7041     306.60\n",
              "7042    6844.50\n",
              "Name: TotalCharges, Length: 7032, dtype: float64"
            ]
          },
          "metadata": {},
          "execution_count": 59
        }
      ]
    },
    {
      "cell_type": "code",
      "metadata": {
        "colab": {
          "base_uri": "https://localhost:8080/"
        },
        "id": "GHc60FeHAFy1",
        "outputId": "3dfb7758-9a33-4b81-b5c4-4c1779d6527e"
      },
      "source": [
        "df1.TotalCharges = pd.to_numeric(df1.TotalCharges)"
      ],
      "execution_count": 60,
      "outputs": [
        {
          "output_type": "stream",
          "name": "stderr",
          "text": [
            "/usr/local/lib/python3.7/dist-packages/pandas/core/generic.py:5170: SettingWithCopyWarning: \n",
            "A value is trying to be set on a copy of a slice from a DataFrame.\n",
            "Try using .loc[row_indexer,col_indexer] = value instead\n",
            "\n",
            "See the caveats in the documentation: https://pandas.pydata.org/pandas-docs/stable/user_guide/indexing.html#returning-a-view-versus-a-copy\n",
            "  self[name] = value\n"
          ]
        }
      ]
    },
    {
      "cell_type": "code",
      "metadata": {
        "colab": {
          "base_uri": "https://localhost:8080/"
        },
        "id": "Tz98z8_lAJYe",
        "outputId": "823c5513-fe5a-49f2-cb5c-a43159557f04"
      },
      "source": [
        "df1.TotalCharges.dtypes"
      ],
      "execution_count": 61,
      "outputs": [
        {
          "output_type": "execute_result",
          "data": {
            "text/plain": [
              "dtype('float64')"
            ]
          },
          "metadata": {},
          "execution_count": 61
        }
      ]
    },
    {
      "cell_type": "code",
      "metadata": {
        "colab": {
          "base_uri": "https://localhost:8080/",
          "height": 569
        },
        "id": "w8bMqyAOAN7L",
        "outputId": "a21c44b0-b7d0-4699-ecd0-21d01fe402f9"
      },
      "source": [
        "# Customers who left within the last month – the column is called Churn\n",
        "df1[df1.Churn=='No'] # customers who did not live"
      ],
      "execution_count": 62,
      "outputs": [
        {
          "output_type": "execute_result",
          "data": {
            "text/html": [
              "<div>\n",
              "<style scoped>\n",
              "    .dataframe tbody tr th:only-of-type {\n",
              "        vertical-align: middle;\n",
              "    }\n",
              "\n",
              "    .dataframe tbody tr th {\n",
              "        vertical-align: top;\n",
              "    }\n",
              "\n",
              "    .dataframe thead th {\n",
              "        text-align: right;\n",
              "    }\n",
              "</style>\n",
              "<table border=\"1\" class=\"dataframe\">\n",
              "  <thead>\n",
              "    <tr style=\"text-align: right;\">\n",
              "      <th></th>\n",
              "      <th>gender</th>\n",
              "      <th>SeniorCitizen</th>\n",
              "      <th>Partner</th>\n",
              "      <th>Dependents</th>\n",
              "      <th>tenure</th>\n",
              "      <th>PhoneService</th>\n",
              "      <th>MultipleLines</th>\n",
              "      <th>InternetService</th>\n",
              "      <th>OnlineSecurity</th>\n",
              "      <th>OnlineBackup</th>\n",
              "      <th>DeviceProtection</th>\n",
              "      <th>TechSupport</th>\n",
              "      <th>StreamingTV</th>\n",
              "      <th>StreamingMovies</th>\n",
              "      <th>Contract</th>\n",
              "      <th>PaperlessBilling</th>\n",
              "      <th>PaymentMethod</th>\n",
              "      <th>MonthlyCharges</th>\n",
              "      <th>TotalCharges</th>\n",
              "      <th>Churn</th>\n",
              "    </tr>\n",
              "  </thead>\n",
              "  <tbody>\n",
              "    <tr>\n",
              "      <th>0</th>\n",
              "      <td>Female</td>\n",
              "      <td>0</td>\n",
              "      <td>Yes</td>\n",
              "      <td>No</td>\n",
              "      <td>1</td>\n",
              "      <td>No</td>\n",
              "      <td>No phone service</td>\n",
              "      <td>DSL</td>\n",
              "      <td>No</td>\n",
              "      <td>Yes</td>\n",
              "      <td>No</td>\n",
              "      <td>No</td>\n",
              "      <td>No</td>\n",
              "      <td>No</td>\n",
              "      <td>Month-to-month</td>\n",
              "      <td>Yes</td>\n",
              "      <td>Electronic check</td>\n",
              "      <td>29.85</td>\n",
              "      <td>29.85</td>\n",
              "      <td>No</td>\n",
              "    </tr>\n",
              "    <tr>\n",
              "      <th>1</th>\n",
              "      <td>Male</td>\n",
              "      <td>0</td>\n",
              "      <td>No</td>\n",
              "      <td>No</td>\n",
              "      <td>34</td>\n",
              "      <td>Yes</td>\n",
              "      <td>No</td>\n",
              "      <td>DSL</td>\n",
              "      <td>Yes</td>\n",
              "      <td>No</td>\n",
              "      <td>Yes</td>\n",
              "      <td>No</td>\n",
              "      <td>No</td>\n",
              "      <td>No</td>\n",
              "      <td>One year</td>\n",
              "      <td>No</td>\n",
              "      <td>Mailed check</td>\n",
              "      <td>56.95</td>\n",
              "      <td>1889.50</td>\n",
              "      <td>No</td>\n",
              "    </tr>\n",
              "    <tr>\n",
              "      <th>3</th>\n",
              "      <td>Male</td>\n",
              "      <td>0</td>\n",
              "      <td>No</td>\n",
              "      <td>No</td>\n",
              "      <td>45</td>\n",
              "      <td>No</td>\n",
              "      <td>No phone service</td>\n",
              "      <td>DSL</td>\n",
              "      <td>Yes</td>\n",
              "      <td>No</td>\n",
              "      <td>Yes</td>\n",
              "      <td>Yes</td>\n",
              "      <td>No</td>\n",
              "      <td>No</td>\n",
              "      <td>One year</td>\n",
              "      <td>No</td>\n",
              "      <td>Bank transfer (automatic)</td>\n",
              "      <td>42.30</td>\n",
              "      <td>1840.75</td>\n",
              "      <td>No</td>\n",
              "    </tr>\n",
              "    <tr>\n",
              "      <th>6</th>\n",
              "      <td>Male</td>\n",
              "      <td>0</td>\n",
              "      <td>No</td>\n",
              "      <td>Yes</td>\n",
              "      <td>22</td>\n",
              "      <td>Yes</td>\n",
              "      <td>Yes</td>\n",
              "      <td>Fiber optic</td>\n",
              "      <td>No</td>\n",
              "      <td>Yes</td>\n",
              "      <td>No</td>\n",
              "      <td>No</td>\n",
              "      <td>Yes</td>\n",
              "      <td>No</td>\n",
              "      <td>Month-to-month</td>\n",
              "      <td>Yes</td>\n",
              "      <td>Credit card (automatic)</td>\n",
              "      <td>89.10</td>\n",
              "      <td>1949.40</td>\n",
              "      <td>No</td>\n",
              "    </tr>\n",
              "    <tr>\n",
              "      <th>7</th>\n",
              "      <td>Female</td>\n",
              "      <td>0</td>\n",
              "      <td>No</td>\n",
              "      <td>No</td>\n",
              "      <td>10</td>\n",
              "      <td>No</td>\n",
              "      <td>No phone service</td>\n",
              "      <td>DSL</td>\n",
              "      <td>Yes</td>\n",
              "      <td>No</td>\n",
              "      <td>No</td>\n",
              "      <td>No</td>\n",
              "      <td>No</td>\n",
              "      <td>No</td>\n",
              "      <td>Month-to-month</td>\n",
              "      <td>No</td>\n",
              "      <td>Mailed check</td>\n",
              "      <td>29.75</td>\n",
              "      <td>301.90</td>\n",
              "      <td>No</td>\n",
              "    </tr>\n",
              "    <tr>\n",
              "      <th>...</th>\n",
              "      <td>...</td>\n",
              "      <td>...</td>\n",
              "      <td>...</td>\n",
              "      <td>...</td>\n",
              "      <td>...</td>\n",
              "      <td>...</td>\n",
              "      <td>...</td>\n",
              "      <td>...</td>\n",
              "      <td>...</td>\n",
              "      <td>...</td>\n",
              "      <td>...</td>\n",
              "      <td>...</td>\n",
              "      <td>...</td>\n",
              "      <td>...</td>\n",
              "      <td>...</td>\n",
              "      <td>...</td>\n",
              "      <td>...</td>\n",
              "      <td>...</td>\n",
              "      <td>...</td>\n",
              "      <td>...</td>\n",
              "    </tr>\n",
              "    <tr>\n",
              "      <th>7037</th>\n",
              "      <td>Female</td>\n",
              "      <td>0</td>\n",
              "      <td>No</td>\n",
              "      <td>No</td>\n",
              "      <td>72</td>\n",
              "      <td>Yes</td>\n",
              "      <td>No</td>\n",
              "      <td>No</td>\n",
              "      <td>No internet service</td>\n",
              "      <td>No internet service</td>\n",
              "      <td>No internet service</td>\n",
              "      <td>No internet service</td>\n",
              "      <td>No internet service</td>\n",
              "      <td>No internet service</td>\n",
              "      <td>Two year</td>\n",
              "      <td>Yes</td>\n",
              "      <td>Bank transfer (automatic)</td>\n",
              "      <td>21.15</td>\n",
              "      <td>1419.40</td>\n",
              "      <td>No</td>\n",
              "    </tr>\n",
              "    <tr>\n",
              "      <th>7038</th>\n",
              "      <td>Male</td>\n",
              "      <td>0</td>\n",
              "      <td>Yes</td>\n",
              "      <td>Yes</td>\n",
              "      <td>24</td>\n",
              "      <td>Yes</td>\n",
              "      <td>Yes</td>\n",
              "      <td>DSL</td>\n",
              "      <td>Yes</td>\n",
              "      <td>No</td>\n",
              "      <td>Yes</td>\n",
              "      <td>Yes</td>\n",
              "      <td>Yes</td>\n",
              "      <td>Yes</td>\n",
              "      <td>One year</td>\n",
              "      <td>Yes</td>\n",
              "      <td>Mailed check</td>\n",
              "      <td>84.80</td>\n",
              "      <td>1990.50</td>\n",
              "      <td>No</td>\n",
              "    </tr>\n",
              "    <tr>\n",
              "      <th>7039</th>\n",
              "      <td>Female</td>\n",
              "      <td>0</td>\n",
              "      <td>Yes</td>\n",
              "      <td>Yes</td>\n",
              "      <td>72</td>\n",
              "      <td>Yes</td>\n",
              "      <td>Yes</td>\n",
              "      <td>Fiber optic</td>\n",
              "      <td>No</td>\n",
              "      <td>Yes</td>\n",
              "      <td>Yes</td>\n",
              "      <td>No</td>\n",
              "      <td>Yes</td>\n",
              "      <td>Yes</td>\n",
              "      <td>One year</td>\n",
              "      <td>Yes</td>\n",
              "      <td>Credit card (automatic)</td>\n",
              "      <td>103.20</td>\n",
              "      <td>7362.90</td>\n",
              "      <td>No</td>\n",
              "    </tr>\n",
              "    <tr>\n",
              "      <th>7040</th>\n",
              "      <td>Female</td>\n",
              "      <td>0</td>\n",
              "      <td>Yes</td>\n",
              "      <td>Yes</td>\n",
              "      <td>11</td>\n",
              "      <td>No</td>\n",
              "      <td>No phone service</td>\n",
              "      <td>DSL</td>\n",
              "      <td>Yes</td>\n",
              "      <td>No</td>\n",
              "      <td>No</td>\n",
              "      <td>No</td>\n",
              "      <td>No</td>\n",
              "      <td>No</td>\n",
              "      <td>Month-to-month</td>\n",
              "      <td>Yes</td>\n",
              "      <td>Electronic check</td>\n",
              "      <td>29.60</td>\n",
              "      <td>346.45</td>\n",
              "      <td>No</td>\n",
              "    </tr>\n",
              "    <tr>\n",
              "      <th>7042</th>\n",
              "      <td>Male</td>\n",
              "      <td>0</td>\n",
              "      <td>No</td>\n",
              "      <td>No</td>\n",
              "      <td>66</td>\n",
              "      <td>Yes</td>\n",
              "      <td>No</td>\n",
              "      <td>Fiber optic</td>\n",
              "      <td>Yes</td>\n",
              "      <td>No</td>\n",
              "      <td>Yes</td>\n",
              "      <td>Yes</td>\n",
              "      <td>Yes</td>\n",
              "      <td>Yes</td>\n",
              "      <td>Two year</td>\n",
              "      <td>Yes</td>\n",
              "      <td>Bank transfer (automatic)</td>\n",
              "      <td>105.65</td>\n",
              "      <td>6844.50</td>\n",
              "      <td>No</td>\n",
              "    </tr>\n",
              "  </tbody>\n",
              "</table>\n",
              "<p>5163 rows × 20 columns</p>\n",
              "</div>"
            ],
            "text/plain": [
              "      gender  SeniorCitizen Partner  ... MonthlyCharges  TotalCharges Churn\n",
              "0     Female              0     Yes  ...          29.85         29.85    No\n",
              "1       Male              0      No  ...          56.95       1889.50    No\n",
              "3       Male              0      No  ...          42.30       1840.75    No\n",
              "6       Male              0      No  ...          89.10       1949.40    No\n",
              "7     Female              0      No  ...          29.75        301.90    No\n",
              "...      ...            ...     ...  ...            ...           ...   ...\n",
              "7037  Female              0      No  ...          21.15       1419.40    No\n",
              "7038    Male              0     Yes  ...          84.80       1990.50    No\n",
              "7039  Female              0     Yes  ...         103.20       7362.90    No\n",
              "7040  Female              0     Yes  ...          29.60        346.45    No\n",
              "7042    Male              0      No  ...         105.65       6844.50    No\n",
              "\n",
              "[5163 rows x 20 columns]"
            ]
          },
          "metadata": {},
          "execution_count": 62
        }
      ]
    },
    {
      "cell_type": "code",
      "metadata": {
        "id": "MM34D03CAXow"
      },
      "source": [
        "tenure_churn_no  = df1[df1.Churn=='No'].tenure\n",
        "tenure_churn_yes = df1[df1.Churn=='Yes'].tenure # cusotomers who lived"
      ],
      "execution_count": 63,
      "outputs": []
    },
    {
      "cell_type": "code",
      "metadata": {
        "colab": {
          "base_uri": "https://localhost:8080/",
          "height": 385
        },
        "id": "Yrn75ZpLAfiJ",
        "outputId": "94b15021-101f-4796-e31c-ad390bf3a6bf"
      },
      "source": [
        "plt.hist([tenure_churn_yes,tenure_churn_no],\n",
        "         color = ['green','red'],\n",
        "         label = ['Churn=Yes','Churn=No'])\n",
        "plt.xlabel('tenure')\n",
        "plt.ylabel(\"Number Of Customers\")\n",
        "plt.title(\"Customer Churn Prediction Visualization\")\n",
        "plt.legend()\n",
        "\n",
        "'''\n",
        "tenure = length of stay in company\n",
        "pp who have been in company for a long time --> 70\n",
        "tend to not iive\n",
        "'''"
      ],
      "execution_count": 64,
      "outputs": [
        {
          "output_type": "stream",
          "name": "stderr",
          "text": [
            "/usr/local/lib/python3.7/dist-packages/numpy/core/_asarray.py:83: VisibleDeprecationWarning: Creating an ndarray from ragged nested sequences (which is a list-or-tuple of lists-or-tuples-or ndarrays with different lengths or shapes) is deprecated. If you meant to do this, you must specify 'dtype=object' when creating the ndarray\n",
            "  return array(a, dtype, copy=False, order=order)\n"
          ]
        },
        {
          "output_type": "execute_result",
          "data": {
            "application/vnd.google.colaboratory.intrinsic+json": {
              "type": "string"
            },
            "text/plain": [
              "'\\ntenure = length of stay in company\\npp who have been in company for a long time --> 70\\ntend to not iive\\n'"
            ]
          },
          "metadata": {},
          "execution_count": 64
        },
        {
          "output_type": "display_data",
          "data": {
            "image/png": "[encoded data removed]",
            "text/plain": [
              "<Figure size 432x288 with 1 Axes>"
            ]
          },
          "metadata": {
            "needs_background": "light"
          }
        }
      ]
    },
    {
      "cell_type": "code",
      "metadata": {
        "colab": {
          "base_uri": "https://localhost:8080/",
          "height": 368
        },
        "id": "UNo1gP4MCAys",
        "outputId": "fe13a78b-ce5b-45bf-91b5-e4f26b0ab4f2"
      },
      "source": [
        "# relation with monthly charge\n",
        "tenure_churn_no  = df1[df1.Churn=='No'].MonthlyCharges\n",
        "tenure_churn_yes = df1[df1.Churn=='Yes'].MonthlyCharges # cusotomers who lived\n",
        "\n",
        "plt.hist([tenure_churn_yes,tenure_churn_no],\n",
        "         color = ['green','red'],\n",
        "         label = ['Churn=Yes','Churn=No'])\n",
        "plt.xlabel('MonthlyCharges')\n",
        "plt.ylabel(\"Number Of Customers\")\n",
        "plt.title(\"Customer Churn Prediction Visualization\")\n",
        "plt.legend()\n",
        "\n",
        "'''\n",
        "Custoemrs who have very charge \n",
        "they are living more\n",
        "\n",
        "middle : they are ok \n",
        "'''"
      ],
      "execution_count": 65,
      "outputs": [
        {
          "output_type": "stream",
          "name": "stderr",
          "text": [
            "/usr/local/lib/python3.7/dist-packages/numpy/core/_asarray.py:83: VisibleDeprecationWarning: Creating an ndarray from ragged nested sequences (which is a list-or-tuple of lists-or-tuples-or ndarrays with different lengths or shapes) is deprecated. If you meant to do this, you must specify 'dtype=object' when creating the ndarray\n",
            "  return array(a, dtype, copy=False, order=order)\n"
          ]
        },
        {
          "output_type": "execute_result",
          "data": {
            "application/vnd.google.colaboratory.intrinsic+json": {
              "type": "string"
            },
            "text/plain": [
              "'\\nCustoemrs who have very charge \\nthey are living more\\n\\nmiddle : they are ok \\n'"
            ]
          },
          "metadata": {},
          "execution_count": 65
        },
        {
          "output_type": "display_data",
          "data": {
            "image/png": "[encoded data removed]",
            "text/plain": [
              "<Figure size 432x288 with 1 Axes>"
            ]
          },
          "metadata": {
            "needs_background": "light"
          }
        }
      ]
    },
    {
      "cell_type": "code",
      "metadata": {
        "id": "wHbsvAEXCc7o"
      },
      "source": [
        "def print_unique_col_values(df) : \n",
        "  for column in df : # reach all columns\n",
        "    if df[column].dtypes == 'object' :\n",
        "      print(f'{column} : {df[column].unique()}')"
      ],
      "execution_count": 66,
      "outputs": []
    },
    {
      "cell_type": "code",
      "metadata": {
        "colab": {
          "base_uri": "https://localhost:8080/"
        },
        "id": "Ok4rulWdC81S",
        "outputId": "c8a351ac-8036-4f51-b3fc-c143a38b16be"
      },
      "source": [
        "print_unique_col_values(df1)"
      ],
      "execution_count": 67,
      "outputs": [
        {
          "output_type": "stream",
          "name": "stdout",
          "text": [
            "gender : ['Female' 'Male']\n",
            "Partner : ['Yes' 'No']\n",
            "Dependents : ['No' 'Yes']\n",
            "PhoneService : ['No' 'Yes']\n",
            "MultipleLines : ['No phone service' 'No' 'Yes']\n",
            "InternetService : ['DSL' 'Fiber optic' 'No']\n",
            "OnlineSecurity : ['No' 'Yes' 'No internet service']\n",
            "OnlineBackup : ['Yes' 'No' 'No internet service']\n",
            "DeviceProtection : ['No' 'Yes' 'No internet service']\n",
            "TechSupport : ['No' 'Yes' 'No internet service']\n",
            "StreamingTV : ['No' 'Yes' 'No internet service']\n",
            "StreamingMovies : ['No' 'Yes' 'No internet service']\n",
            "Contract : ['Month-to-month' 'One year' 'Two year']\n",
            "PaperlessBilling : ['Yes' 'No']\n",
            "PaymentMethod : ['Electronic check' 'Mailed check' 'Bank transfer (automatic)'\n",
            " 'Credit card (automatic)']\n",
            "Churn : ['No' 'Yes']\n"
          ]
        }
      ]
    },
    {
      "cell_type": "code",
      "metadata": {
        "colab": {
          "base_uri": "https://localhost:8080/"
        },
        "id": "BsiV0IzlDKMN",
        "outputId": "7a6a89cd-94ea-41b1-82ad-60dfc246cdb8"
      },
      "source": [
        "df1.replace('No internet service','No',inplace = True)"
      ],
      "execution_count": 68,
      "outputs": [
        {
          "output_type": "stream",
          "name": "stderr",
          "text": [
            "/usr/local/lib/python3.7/dist-packages/pandas/core/frame.py:4389: SettingWithCopyWarning: \n",
            "A value is trying to be set on a copy of a slice from a DataFrame\n",
            "\n",
            "See the caveats in the documentation: https://pandas.pydata.org/pandas-docs/stable/user_guide/indexing.html#returning-a-view-versus-a-copy\n",
            "  method=method,\n"
          ]
        }
      ]
    },
    {
      "cell_type": "code",
      "metadata": {
        "colab": {
          "base_uri": "https://localhost:8080/"
        },
        "id": "IoWwpq5IDRvv",
        "outputId": "84aa6b22-01c2-4cfd-b0a3-12b033f10c89"
      },
      "source": [
        "df1.replace('No phone service','No',inplace = True)"
      ],
      "execution_count": 69,
      "outputs": [
        {
          "output_type": "stream",
          "name": "stderr",
          "text": [
            "/usr/local/lib/python3.7/dist-packages/pandas/core/frame.py:4389: SettingWithCopyWarning: \n",
            "A value is trying to be set on a copy of a slice from a DataFrame\n",
            "\n",
            "See the caveats in the documentation: https://pandas.pydata.org/pandas-docs/stable/user_guide/indexing.html#returning-a-view-versus-a-copy\n",
            "  method=method,\n"
          ]
        }
      ]
    },
    {
      "cell_type": "code",
      "metadata": {
        "colab": {
          "base_uri": "https://localhost:8080/"
        },
        "id": "0ZMejPueDUEt",
        "outputId": "a53cf41e-9a73-4e82-e6c2-8c9d81a5084a"
      },
      "source": [
        "print_unique_col_values(df1)"
      ],
      "execution_count": 70,
      "outputs": [
        {
          "output_type": "stream",
          "name": "stdout",
          "text": [
            "gender : ['Female' 'Male']\n",
            "Partner : ['Yes' 'No']\n",
            "Dependents : ['No' 'Yes']\n",
            "PhoneService : ['No' 'Yes']\n",
            "MultipleLines : ['No' 'Yes']\n",
            "InternetService : ['DSL' 'Fiber optic' 'No']\n",
            "OnlineSecurity : ['No' 'Yes']\n",
            "OnlineBackup : ['Yes' 'No']\n",
            "DeviceProtection : ['No' 'Yes']\n",
            "TechSupport : ['No' 'Yes']\n",
            "StreamingTV : ['No' 'Yes']\n",
            "StreamingMovies : ['No' 'Yes']\n",
            "Contract : ['Month-to-month' 'One year' 'Two year']\n",
            "PaperlessBilling : ['Yes' 'No']\n",
            "PaymentMethod : ['Electronic check' 'Mailed check' 'Bank transfer (automatic)'\n",
            " 'Credit card (automatic)']\n",
            "Churn : ['No' 'Yes']\n"
          ]
        }
      ]
    },
    {
      "cell_type": "code",
      "metadata": {
        "colab": {
          "base_uri": "https://localhost:8080/"
        },
        "id": "NFntr73vX_Pz",
        "outputId": "c95bdc1f-dafe-49e7-9906-53370fe40970"
      },
      "source": [
        "# convert \"No\",\"Yes\" --> 0 , 1\n",
        "yes_no_columns = ['Partner','Dependents','PhoneService','MultipleLines','OnlineSecurity','OnlineBackup',\n",
        "                  'DeviceProtection','TechSupport','StreamingTV','StreamingMovies','PaperlessBilling','Churn']\n",
        "for col in yes_no_columns:\n",
        "    df1[col].replace({'Yes': 1,'No': 0},inplace=True)"
      ],
      "execution_count": 71,
      "outputs": [
        {
          "output_type": "stream",
          "name": "stderr",
          "text": [
            "/usr/local/lib/python3.7/dist-packages/pandas/core/series.py:4582: SettingWithCopyWarning: \n",
            "A value is trying to be set on a copy of a slice from a DataFrame\n",
            "\n",
            "See the caveats in the documentation: https://pandas.pydata.org/pandas-docs/stable/user_guide/indexing.html#returning-a-view-versus-a-copy\n",
            "  method=method,\n"
          ]
        }
      ]
    },
    {
      "cell_type": "code",
      "metadata": {
        "colab": {
          "base_uri": "https://localhost:8080/"
        },
        "id": "z99ma8BPYTR-",
        "outputId": "4821a979-af89-4e6b-ef1c-9c9d02b8a7bc"
      },
      "source": [
        "# male, female\n",
        "df1['gender'].replace({'Female':1,'Male':0},inplace=True)"
      ],
      "execution_count": 72,
      "outputs": [
        {
          "output_type": "stream",
          "name": "stderr",
          "text": [
            "/usr/local/lib/python3.7/dist-packages/pandas/core/series.py:4582: SettingWithCopyWarning: \n",
            "A value is trying to be set on a copy of a slice from a DataFrame\n",
            "\n",
            "See the caveats in the documentation: https://pandas.pydata.org/pandas-docs/stable/user_guide/indexing.html#returning-a-view-versus-a-copy\n",
            "  method=method,\n"
          ]
        }
      ]
    },
    {
      "cell_type": "code",
      "metadata": {
        "colab": {
          "base_uri": "https://localhost:8080/"
        },
        "id": "jmIfddfVYZ8D",
        "outputId": "1a185742-49b7-4948-8585-2866a5207630"
      },
      "source": [
        "df2 = pd.get_dummies(data=df1, columns=['InternetService','Contract','PaymentMethod'])\n",
        "df2.columns"
      ],
      "execution_count": 73,
      "outputs": [
        {
          "output_type": "execute_result",
          "data": {
            "text/plain": [
              "Index(['gender', 'SeniorCitizen', 'Partner', 'Dependents', 'tenure',\n",
              "       'PhoneService', 'MultipleLines', 'OnlineSecurity', 'OnlineBackup',\n",
              "       'DeviceProtection', 'TechSupport', 'StreamingTV', 'StreamingMovies',\n",
              "       'PaperlessBilling', 'MonthlyCharges', 'TotalCharges', 'Churn',\n",
              "       'InternetService_DSL', 'InternetService_Fiber optic',\n",
              "       'InternetService_No', 'Contract_Month-to-month', 'Contract_One year',\n",
              "       'Contract_Two year', 'PaymentMethod_Bank transfer (automatic)',\n",
              "       'PaymentMethod_Credit card (automatic)',\n",
              "       'PaymentMethod_Electronic check', 'PaymentMethod_Mailed check'],\n",
              "      dtype='object')"
            ]
          },
          "metadata": {},
          "execution_count": 73
        }
      ]
    },
    {
      "cell_type": "code",
      "metadata": {
        "colab": {
          "base_uri": "https://localhost:8080/"
        },
        "id": "vhqv7jdaYZQr",
        "outputId": "be3668f7-4b5f-4ec7-c82a-097e018fa950"
      },
      "source": [
        "df2.dtypes"
      ],
      "execution_count": 74,
      "outputs": [
        {
          "output_type": "execute_result",
          "data": {
            "text/plain": [
              "gender                                       int64\n",
              "SeniorCitizen                                int64\n",
              "Partner                                      int64\n",
              "Dependents                                   int64\n",
              "tenure                                       int64\n",
              "PhoneService                                 int64\n",
              "MultipleLines                                int64\n",
              "OnlineSecurity                               int64\n",
              "OnlineBackup                                 int64\n",
              "DeviceProtection                             int64\n",
              "TechSupport                                  int64\n",
              "StreamingTV                                  int64\n",
              "StreamingMovies                              int64\n",
              "PaperlessBilling                             int64\n",
              "MonthlyCharges                             float64\n",
              "TotalCharges                               float64\n",
              "Churn                                        int64\n",
              "InternetService_DSL                          uint8\n",
              "InternetService_Fiber optic                  uint8\n",
              "InternetService_No                           uint8\n",
              "Contract_Month-to-month                      uint8\n",
              "Contract_One year                            uint8\n",
              "Contract_Two year                            uint8\n",
              "PaymentMethod_Bank transfer (automatic)      uint8\n",
              "PaymentMethod_Credit card (automatic)        uint8\n",
              "PaymentMethod_Electronic check               uint8\n",
              "PaymentMethod_Mailed check                   uint8\n",
              "dtype: object"
            ]
          },
          "metadata": {},
          "execution_count": 74
        }
      ]
    },
    {
      "cell_type": "code",
      "metadata": {
        "id": "R4jAq4kmY3jx"
      },
      "source": [
        "# scale columns\n",
        "cols_to_scale = ['tenure','MonthlyCharges','TotalCharges']\n",
        "\n",
        "from sklearn.preprocessing import MinMaxScaler\n",
        "scaler = MinMaxScaler()\n",
        "df2[cols_to_scale] = scaler.fit_transform(df2[cols_to_scale])"
      ],
      "execution_count": 75,
      "outputs": []
    },
    {
      "cell_type": "code",
      "metadata": {
        "colab": {
          "base_uri": "https://localhost:8080/"
        },
        "id": "0NPe6_boZCFc",
        "outputId": "ad43856a-056f-416f-e0f6-6fc1e73d77cb"
      },
      "source": [
        "for col in df2:\n",
        "    print(f'{col}: {df2[col].unique()}')"
      ],
      "execution_count": 77,
      "outputs": [
        {
          "output_type": "stream",
          "name": "stdout",
          "text": [
            "gender: [1 0]\n",
            "SeniorCitizen: [0 1]\n",
            "Partner: [1 0]\n",
            "Dependents: [0 1]\n",
            "tenure: [0.         0.46478873 0.01408451 0.61971831 0.09859155 0.29577465\n",
            " 0.12676056 0.38028169 0.85915493 0.16901408 0.21126761 0.8028169\n",
            " 0.67605634 0.33802817 0.95774648 0.71830986 0.98591549 0.28169014\n",
            " 0.15492958 0.4084507  0.64788732 1.         0.22535211 0.36619718\n",
            " 0.05633803 0.63380282 0.14084507 0.97183099 0.87323944 0.5915493\n",
            " 0.1971831  0.83098592 0.23943662 0.91549296 0.11267606 0.02816901\n",
            " 0.42253521 0.69014085 0.88732394 0.77464789 0.08450704 0.57746479\n",
            " 0.47887324 0.66197183 0.3943662  0.90140845 0.52112676 0.94366197\n",
            " 0.43661972 0.76056338 0.50704225 0.49295775 0.56338028 0.07042254\n",
            " 0.04225352 0.45070423 0.92957746 0.30985915 0.78873239 0.84507042\n",
            " 0.18309859 0.26760563 0.73239437 0.54929577 0.81690141 0.32394366\n",
            " 0.6056338  0.25352113 0.74647887 0.70422535 0.35211268 0.53521127]\n",
            "PhoneService: [0 1]\n",
            "MultipleLines: [0 1]\n",
            "OnlineSecurity: [0 1]\n",
            "OnlineBackup: [1 0]\n",
            "DeviceProtection: [0 1]\n",
            "TechSupport: [0 1]\n",
            "StreamingTV: [0 1]\n",
            "StreamingMovies: [0 1]\n",
            "PaperlessBilling: [1 0]\n",
            "MonthlyCharges: [0.11542289 0.38507463 0.35422886 ... 0.44626866 0.25820896 0.60149254]\n",
            "TotalCharges: [0.0012751  0.21586661 0.01031041 ... 0.03780868 0.03321025 0.78764136]\n",
            "Churn: [0 1]\n",
            "InternetService_DSL: [1 0]\n",
            "InternetService_Fiber optic: [0 1]\n",
            "InternetService_No: [0 1]\n",
            "Contract_Month-to-month: [1 0]\n",
            "Contract_One year: [0 1]\n",
            "Contract_Two year: [0 1]\n",
            "PaymentMethod_Bank transfer (automatic): [0 1]\n",
            "PaymentMethod_Credit card (automatic): [0 1]\n",
            "PaymentMethod_Electronic check: [1 0]\n",
            "PaymentMethod_Mailed check: [0 1]\n"
          ]
        }
      ]
    },
    {
      "cell_type": "code",
      "metadata": {
        "id": "g5T-TRoVZZ3t"
      },
      "source": [
        "X = df2.drop('Churn',axis='columns')\n",
        "y = df2['Churn']"
      ],
      "execution_count": 78,
      "outputs": []
    },
    {
      "cell_type": "code",
      "metadata": {
        "id": "XPuU2Kv1ZfI0"
      },
      "source": [
        "from sklearn.model_selection import train_test_split\n",
        "X_train, X_test, y_train, y_test = train_test_split(X,y,test_size=0.2,random_state=5)"
      ],
      "execution_count": 79,
      "outputs": []
    },
    {
      "cell_type": "code",
      "metadata": {
        "colab": {
          "base_uri": "https://localhost:8080/"
        },
        "id": "nKFq_5twZkSB",
        "outputId": "e284362b-764b-4100-f581-e1f30e928a98"
      },
      "source": [
        "# Build ANN in tensorflows\n",
        "import tensorflow as tf\n",
        "from tensorflow import keras\n",
        "\n",
        "model = keras.Sequential([\n",
        "  # number of neuron == number of columns\n",
        "  # each neuron accepts 1 feature\n",
        "  keras.layers.Dense(26,input_shape = {26,}, activation = 'relu'),\n",
        "  keras.layers.Dense(15, activation = 'relu'),\n",
        "  keras.layers.Dense(1,activation = 'sigmoid') # 0, 1\n",
        "])\n",
        "\n",
        "model.compile(optimizer = 'adam',\n",
        "              # why entropy ? because our result is binary\n",
        "              loss = 'binary_crossentropy',\n",
        "              metrics = ['accuracy'])\n",
        "model.fit(X_train,y_train,epochs = 100)"
      ],
      "execution_count": 82,
      "outputs": [
        {
          "output_type": "stream",
          "name": "stdout",
          "text": [
            "Epoch 1/100\n",
            "176/176 [==============================] - 1s 2ms/step - loss: 0.4767 - accuracy: 0.7575\n",
            "Epoch 2/100\n",
            "176/176 [==============================] - 0s 2ms/step - loss: 0.4313 - accuracy: 0.7938\n",
            "Epoch 3/100\n",
            "176/176 [==============================] - 0s 2ms/step - loss: 0.4223 - accuracy: 0.8002\n",
            "Epoch 4/100\n",
            "176/176 [==============================] - 0s 2ms/step - loss: 0.4168 - accuracy: 0.7998\n",
            "Epoch 5/100\n",
            "176/176 [==============================] - 0s 2ms/step - loss: 0.4142 - accuracy: 0.8037\n",
            "Epoch 6/100\n",
            "176/176 [==============================] - 0s 2ms/step - loss: 0.4111 - accuracy: 0.8057\n",
            "Epoch 7/100\n",
            "176/176 [==============================] - 0s 2ms/step - loss: 0.4088 - accuracy: 0.8057\n",
            "Epoch 8/100\n",
            "176/176 [==============================] - 0s 2ms/step - loss: 0.4063 - accuracy: 0.8075\n",
            "Epoch 9/100\n",
            "176/176 [==============================] - 0s 2ms/step - loss: 0.4058 - accuracy: 0.8080\n",
            "Epoch 10/100\n",
            "176/176 [==============================] - 0s 2ms/step - loss: 0.4042 - accuracy: 0.8121\n",
            "Epoch 11/100\n",
            "176/176 [==============================] - 0s 2ms/step - loss: 0.4014 - accuracy: 0.8107\n",
            "Epoch 12/100\n",
            "176/176 [==============================] - 0s 2ms/step - loss: 0.4001 - accuracy: 0.8133\n",
            "Epoch 13/100\n",
            "176/176 [==============================] - 0s 2ms/step - loss: 0.4007 - accuracy: 0.8142\n",
            "Epoch 14/100\n",
            "176/176 [==============================] - 0s 2ms/step - loss: 0.3982 - accuracy: 0.8128\n",
            "Epoch 15/100\n",
            "176/176 [==============================] - 0s 2ms/step - loss: 0.3968 - accuracy: 0.8148\n",
            "Epoch 16/100\n",
            "176/176 [==============================] - 0s 2ms/step - loss: 0.3955 - accuracy: 0.8162\n",
            "Epoch 17/100\n",
            "176/176 [==============================] - 0s 2ms/step - loss: 0.3933 - accuracy: 0.8148\n",
            "Epoch 18/100\n",
            "176/176 [==============================] - 0s 2ms/step - loss: 0.3942 - accuracy: 0.8144\n",
            "Epoch 19/100\n",
            "176/176 [==============================] - 0s 2ms/step - loss: 0.3928 - accuracy: 0.8167\n",
            "Epoch 20/100\n",
            "176/176 [==============================] - 0s 2ms/step - loss: 0.3908 - accuracy: 0.8171\n",
            "Epoch 21/100\n",
            "176/176 [==============================] - 0s 2ms/step - loss: 0.3903 - accuracy: 0.8187\n",
            "Epoch 22/100\n",
            "176/176 [==============================] - 0s 2ms/step - loss: 0.3886 - accuracy: 0.8190\n",
            "Epoch 23/100\n",
            "176/176 [==============================] - 0s 2ms/step - loss: 0.3871 - accuracy: 0.8188\n",
            "Epoch 24/100\n",
            "176/176 [==============================] - 0s 2ms/step - loss: 0.3867 - accuracy: 0.8206\n",
            "Epoch 25/100\n",
            "176/176 [==============================] - 0s 2ms/step - loss: 0.3867 - accuracy: 0.8194\n",
            "Epoch 26/100\n",
            "176/176 [==============================] - 0s 2ms/step - loss: 0.3851 - accuracy: 0.8210\n",
            "Epoch 27/100\n",
            "176/176 [==============================] - 0s 2ms/step - loss: 0.3829 - accuracy: 0.8217\n",
            "Epoch 28/100\n",
            "176/176 [==============================] - 0s 2ms/step - loss: 0.3820 - accuracy: 0.8231\n",
            "Epoch 29/100\n",
            "176/176 [==============================] - 0s 2ms/step - loss: 0.3825 - accuracy: 0.8217\n",
            "Epoch 30/100\n",
            "176/176 [==============================] - 0s 2ms/step - loss: 0.3812 - accuracy: 0.8213\n",
            "Epoch 31/100\n",
            "176/176 [==============================] - 0s 2ms/step - loss: 0.3800 - accuracy: 0.8226\n",
            "Epoch 32/100\n",
            "176/176 [==============================] - 0s 2ms/step - loss: 0.3788 - accuracy: 0.8210\n",
            "Epoch 33/100\n",
            "176/176 [==============================] - 0s 2ms/step - loss: 0.3788 - accuracy: 0.8260\n",
            "Epoch 34/100\n",
            "176/176 [==============================] - 0s 2ms/step - loss: 0.3773 - accuracy: 0.8228\n",
            "Epoch 35/100\n",
            "176/176 [==============================] - 0s 2ms/step - loss: 0.3768 - accuracy: 0.8229\n",
            "Epoch 36/100\n",
            "176/176 [==============================] - 0s 2ms/step - loss: 0.3751 - accuracy: 0.8233\n",
            "Epoch 37/100\n",
            "176/176 [==============================] - 0s 2ms/step - loss: 0.3761 - accuracy: 0.8217\n",
            "Epoch 38/100\n",
            "176/176 [==============================] - 0s 2ms/step - loss: 0.3744 - accuracy: 0.8268\n",
            "Epoch 39/100\n",
            "176/176 [==============================] - 0s 2ms/step - loss: 0.3737 - accuracy: 0.8254\n",
            "Epoch 40/100\n",
            "176/176 [==============================] - 0s 2ms/step - loss: 0.3721 - accuracy: 0.8252\n",
            "Epoch 41/100\n",
            "176/176 [==============================] - 0s 2ms/step - loss: 0.3717 - accuracy: 0.8302\n",
            "Epoch 42/100\n",
            "176/176 [==============================] - 0s 2ms/step - loss: 0.3720 - accuracy: 0.8290\n",
            "Epoch 43/100\n",
            "176/176 [==============================] - 0s 2ms/step - loss: 0.3707 - accuracy: 0.8288\n",
            "Epoch 44/100\n",
            "176/176 [==============================] - 0s 2ms/step - loss: 0.3699 - accuracy: 0.8265\n",
            "Epoch 45/100\n",
            "176/176 [==============================] - 0s 2ms/step - loss: 0.3689 - accuracy: 0.8284\n",
            "Epoch 46/100\n",
            "176/176 [==============================] - 0s 2ms/step - loss: 0.3672 - accuracy: 0.8299\n",
            "Epoch 47/100\n",
            "176/176 [==============================] - 0s 2ms/step - loss: 0.3671 - accuracy: 0.8316\n",
            "Epoch 48/100\n",
            "176/176 [==============================] - 0s 2ms/step - loss: 0.3668 - accuracy: 0.8290\n",
            "Epoch 49/100\n",
            "176/176 [==============================] - 0s 2ms/step - loss: 0.3658 - accuracy: 0.8297\n",
            "Epoch 50/100\n",
            "176/176 [==============================] - 0s 2ms/step - loss: 0.3651 - accuracy: 0.8277\n",
            "Epoch 51/100\n",
            "176/176 [==============================] - 0s 2ms/step - loss: 0.3637 - accuracy: 0.8320\n",
            "Epoch 52/100\n",
            "176/176 [==============================] - 0s 2ms/step - loss: 0.3630 - accuracy: 0.8316\n",
            "Epoch 53/100\n",
            "176/176 [==============================] - 0s 2ms/step - loss: 0.3632 - accuracy: 0.8297\n",
            "Epoch 54/100\n",
            "176/176 [==============================] - 0s 2ms/step - loss: 0.3623 - accuracy: 0.8302\n",
            "Epoch 55/100\n",
            "176/176 [==============================] - 0s 2ms/step - loss: 0.3620 - accuracy: 0.8299\n",
            "Epoch 56/100\n",
            "176/176 [==============================] - 0s 2ms/step - loss: 0.3603 - accuracy: 0.8325\n",
            "Epoch 57/100\n",
            "176/176 [==============================] - 0s 2ms/step - loss: 0.3604 - accuracy: 0.8331\n",
            "Epoch 58/100\n",
            "176/176 [==============================] - 0s 2ms/step - loss: 0.3593 - accuracy: 0.8316\n",
            "Epoch 59/100\n",
            "176/176 [==============================] - 0s 2ms/step - loss: 0.3590 - accuracy: 0.8318\n",
            "Epoch 60/100\n",
            "176/176 [==============================] - 0s 2ms/step - loss: 0.3578 - accuracy: 0.8304\n",
            "Epoch 61/100\n",
            "176/176 [==============================] - 0s 2ms/step - loss: 0.3580 - accuracy: 0.8322\n",
            "Epoch 62/100\n",
            "176/176 [==============================] - 0s 2ms/step - loss: 0.3568 - accuracy: 0.8359\n",
            "Epoch 63/100\n",
            "176/176 [==============================] - 0s 2ms/step - loss: 0.3555 - accuracy: 0.8331\n",
            "Epoch 64/100\n",
            "176/176 [==============================] - 0s 2ms/step - loss: 0.3543 - accuracy: 0.8318\n",
            "Epoch 65/100\n",
            "176/176 [==============================] - 0s 2ms/step - loss: 0.3552 - accuracy: 0.8340\n",
            "Epoch 66/100\n",
            "176/176 [==============================] - 0s 2ms/step - loss: 0.3540 - accuracy: 0.8345\n",
            "Epoch 67/100\n",
            "176/176 [==============================] - 0s 2ms/step - loss: 0.3539 - accuracy: 0.8322\n",
            "Epoch 68/100\n",
            "176/176 [==============================] - 0s 2ms/step - loss: 0.3530 - accuracy: 0.8348\n",
            "Epoch 69/100\n",
            "176/176 [==============================] - 0s 2ms/step - loss: 0.3528 - accuracy: 0.8356\n",
            "Epoch 70/100\n",
            "176/176 [==============================] - 0s 2ms/step - loss: 0.3516 - accuracy: 0.8332\n",
            "Epoch 71/100\n",
            "176/176 [==============================] - 0s 2ms/step - loss: 0.3516 - accuracy: 0.8318\n",
            "Epoch 72/100\n",
            "176/176 [==============================] - 0s 2ms/step - loss: 0.3518 - accuracy: 0.8352\n",
            "Epoch 73/100\n",
            "176/176 [==============================] - 0s 2ms/step - loss: 0.3509 - accuracy: 0.8340\n",
            "Epoch 74/100\n",
            "176/176 [==============================] - 0s 2ms/step - loss: 0.3493 - accuracy: 0.8334\n",
            "Epoch 75/100\n",
            "176/176 [==============================] - 0s 2ms/step - loss: 0.3492 - accuracy: 0.8361\n",
            "Epoch 76/100\n",
            "176/176 [==============================] - 0s 2ms/step - loss: 0.3490 - accuracy: 0.8348\n",
            "Epoch 77/100\n",
            "176/176 [==============================] - 0s 2ms/step - loss: 0.3496 - accuracy: 0.8384\n",
            "Epoch 78/100\n",
            "176/176 [==============================] - 0s 2ms/step - loss: 0.3481 - accuracy: 0.8377\n",
            "Epoch 79/100\n",
            "176/176 [==============================] - 0s 2ms/step - loss: 0.3489 - accuracy: 0.8352\n",
            "Epoch 80/100\n",
            "176/176 [==============================] - 0s 2ms/step - loss: 0.3480 - accuracy: 0.8388\n",
            "Epoch 81/100\n",
            "176/176 [==============================] - 0s 2ms/step - loss: 0.3469 - accuracy: 0.8329\n",
            "Epoch 82/100\n",
            "176/176 [==============================] - 0s 2ms/step - loss: 0.3462 - accuracy: 0.8370\n",
            "Epoch 83/100\n",
            "176/176 [==============================] - 0s 2ms/step - loss: 0.3465 - accuracy: 0.8370\n",
            "Epoch 84/100\n",
            "176/176 [==============================] - 0s 2ms/step - loss: 0.3463 - accuracy: 0.8393\n",
            "Epoch 85/100\n",
            "176/176 [==============================] - 0s 2ms/step - loss: 0.3461 - accuracy: 0.8375\n",
            "Epoch 86/100\n",
            "176/176 [==============================] - 0s 2ms/step - loss: 0.3456 - accuracy: 0.8370\n",
            "Epoch 87/100\n",
            "176/176 [==============================] - 0s 2ms/step - loss: 0.3441 - accuracy: 0.8380\n",
            "Epoch 88/100\n",
            "176/176 [==============================] - 0s 2ms/step - loss: 0.3451 - accuracy: 0.8370\n",
            "Epoch 89/100\n",
            "176/176 [==============================] - 0s 2ms/step - loss: 0.3437 - accuracy: 0.8411\n",
            "Epoch 90/100\n",
            "176/176 [==============================] - 0s 2ms/step - loss: 0.3431 - accuracy: 0.8368\n",
            "Epoch 91/100\n",
            "176/176 [==============================] - 0s 2ms/step - loss: 0.3426 - accuracy: 0.8393\n",
            "Epoch 92/100\n",
            "176/176 [==============================] - 0s 2ms/step - loss: 0.3431 - accuracy: 0.8373\n",
            "Epoch 93/100\n",
            "176/176 [==============================] - 0s 2ms/step - loss: 0.3430 - accuracy: 0.8384\n",
            "Epoch 94/100\n",
            "176/176 [==============================] - 0s 2ms/step - loss: 0.3426 - accuracy: 0.8416\n",
            "Epoch 95/100\n",
            "176/176 [==============================] - 0s 2ms/step - loss: 0.3424 - accuracy: 0.8368\n",
            "Epoch 96/100\n",
            "176/176 [==============================] - 0s 2ms/step - loss: 0.3418 - accuracy: 0.8361\n",
            "Epoch 97/100\n",
            "176/176 [==============================] - 0s 2ms/step - loss: 0.3401 - accuracy: 0.8375\n",
            "Epoch 98/100\n",
            "176/176 [==============================] - 0s 2ms/step - loss: 0.3399 - accuracy: 0.8414\n",
            "Epoch 99/100\n",
            "176/176 [==============================] - 0s 2ms/step - loss: 0.3399 - accuracy: 0.8409\n",
            "Epoch 100/100\n",
            "176/176 [==============================] - 0s 2ms/step - loss: 0.3395 - accuracy: 0.8411\n"
          ]
        },
        {
          "output_type": "execute_result",
          "data": {
            "text/plain": [
              "<keras.callbacks.History at 0x7f88cc2b3a10>"
            ]
          },
          "metadata": {},
          "execution_count": 82
        }
      ]
    },
    {
      "cell_type": "code",
      "metadata": {
        "colab": {
          "base_uri": "https://localhost:8080/"
        },
        "id": "DcGAgGBFa_t9",
        "outputId": "dc18df88-22fc-4118-f14f-2920585c9aed"
      },
      "source": [
        "model.evaluate(X_test,y_test)"
      ],
      "execution_count": 83,
      "outputs": [
        {
          "output_type": "stream",
          "name": "stdout",
          "text": [
            "44/44 [==============================] - 0s 1ms/step - loss: 0.5093 - accuracy: 0.7626\n"
          ]
        },
        {
          "output_type": "execute_result",
          "data": {
            "text/plain": [
              "[0.5093279480934143, 0.7626155018806458]"
            ]
          },
          "metadata": {},
          "execution_count": 83
        }
      ]
    },
    {
      "cell_type": "code",
      "metadata": {
        "colab": {
          "base_uri": "https://localhost:8080/"
        },
        "id": "bO2sp4UtbB2j",
        "outputId": "2a817fe1-e233-4670-8a39-3c9dcfc87db7"
      },
      "source": [
        "yp = model.predict(X_test)\n",
        "yp[:5] # return prediction"
      ],
      "execution_count": 84,
      "outputs": [
        {
          "output_type": "execute_result",
          "data": {
            "text/plain": [
              "array([[0.48946297],\n",
              "       [0.36129236],\n",
              "       [0.00222749],\n",
              "       [0.6153007 ],\n",
              "       [0.4414017 ]], dtype=float32)"
            ]
          },
          "metadata": {},
          "execution_count": 84
        }
      ]
    },
    {
      "cell_type": "code",
      "metadata": {
        "id": "jC5zlSWZbGR8"
      },
      "source": [
        "y_pred = []\n",
        "for elem in yp :\n",
        "  if elem > 0.5 :\n",
        "    y_pred.append(1)\n",
        "  else :\n",
        "    y_pred.append(0)"
      ],
      "execution_count": 85,
      "outputs": []
    },
    {
      "cell_type": "code",
      "metadata": {
        "colab": {
          "base_uri": "https://localhost:8080/"
        },
        "id": "8CuuempmbWie",
        "outputId": "6702316c-9a4f-4550-d9e1-defb4ac3e34f"
      },
      "source": [
        "y_test[:10]"
      ],
      "execution_count": 86,
      "outputs": [
        {
          "output_type": "execute_result",
          "data": {
            "text/plain": [
              "2660    0\n",
              "744     0\n",
              "5579    1\n",
              "64      1\n",
              "3287    1\n",
              "816     1\n",
              "2670    0\n",
              "5920    0\n",
              "1023    0\n",
              "6087    0\n",
              "Name: Churn, dtype: int64"
            ]
          },
          "metadata": {},
          "execution_count": 86
        }
      ]
    },
    {
      "cell_type": "code",
      "metadata": {
        "colab": {
          "base_uri": "https://localhost:8080/"
        },
        "id": "X4J0aNNxbY25",
        "outputId": "bcb3f817-923e-4bd0-a600-2a35064b6177"
      },
      "source": [
        "y_pred[:10]"
      ],
      "execution_count": 87,
      "outputs": [
        {
          "output_type": "execute_result",
          "data": {
            "text/plain": [
              "[0, 0, 0, 1, 0, 1, 0, 0, 0, 0]"
            ]
          },
          "metadata": {},
          "execution_count": 87
        }
      ]
    },
    {
      "cell_type": "code",
      "metadata": {
        "colab": {
          "base_uri": "https://localhost:8080/"
        },
        "id": "RYto3ZXVbgrs",
        "outputId": "63b5a526-7d83-444e-b845-5872c2dea76c"
      },
      "source": [
        "from sklearn.metrics import confusion_matrix , classification_report\n",
        "\n",
        "print(classification_report(y_test,y_pred))"
      ],
      "execution_count": 88,
      "outputs": [
        {
          "output_type": "stream",
          "name": "stdout",
          "text": [
            "              precision    recall  f1-score   support\n",
            "\n",
            "           0       0.80      0.89      0.84       999\n",
            "           1       0.62      0.46      0.53       408\n",
            "\n",
            "    accuracy                           0.76      1407\n",
            "   macro avg       0.71      0.67      0.69      1407\n",
            "weighted avg       0.75      0.76      0.75      1407\n",
            "\n"
          ]
        }
      ]
    },
    {
      "cell_type": "code",
      "metadata": {
        "colab": {
          "base_uri": "https://localhost:8080/",
          "height": 460
        },
        "id": "kTMOIgaIbqmt",
        "outputId": "fe33b7c0-5c0b-4007-bbe7-f2b8530c3718"
      },
      "source": [
        "import seaborn as sn\n",
        "cm = tf.math.confusion_matrix(labels=y_test,predictions=y_pred)\n",
        "\n",
        "plt.figure(figsize = (10,7))\n",
        "sn.heatmap(cm, annot=True, fmt='d')\n",
        "plt.xlabel('Predicted')\n",
        "plt.ylabel('Truth')\n",
        "\n",
        "# precision : yes predicte 중에서 실제 yes\n",
        "# recall    : 실제 yes 중 yes predict"
      ],
      "execution_count": 89,
      "outputs": [
        {
          "output_type": "execute_result",
          "data": {
            "text/plain": [
              "Text(69.0, 0.5, 'Truth')"
            ]
          },
          "metadata": {},
          "execution_count": 89
        },
        {
          "output_type": "display_data",
          "data": {
            "image/png": "[encoded data removed]",
            "text/plain": [
              "<Figure size 720x504 with 2 Axes>"
            ]
          },
          "metadata": {
            "needs_background": "light"
          }
        }
      ]
    }
  ]
}